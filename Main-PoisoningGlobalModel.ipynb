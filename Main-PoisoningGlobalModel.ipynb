{
 "cells": [
  {
   "cell_type": "markdown",
   "id": "f564b651-8337-4f15-97c2-4282e9de5313",
   "metadata": {},
   "source": [
    "# CGI - Step 2: Poisoning the Global Model"
   ]
  },
  {
   "cell_type": "code",
   "execution_count": null,
   "id": "02157cad-5a4e-4080-91d0-94f5baa7e451",
   "metadata": {},
   "outputs": [],
   "source": [
    "%load_ext autoreload\n",
    "%autoreload 2"
   ]
  },
  {
   "cell_type": "markdown",
   "id": "c2136b64-1733-4263-b86c-ceb8cba9a107",
   "metadata": {},
   "source": [
    "## Lib"
   ]
  },
  {
   "cell_type": "code",
   "execution_count": null,
   "id": "dadaf8e8-f50e-4f43-9dfb-271041794059",
   "metadata": {},
   "outputs": [],
   "source": [
    "import numpy as np\n",
    "from PIL import Image\n",
    "import matplotlib.pyplot as plt\n",
    "import random\n",
    "import torch\n",
    "import torch.optim as optim\n",
    "import torch.nn as nn\n",
    "import torch.nn.functional as F\n",
    "from torch.autograd import grad\n",
    "import torchvision\n",
    "import torchvision.utils as vutils\n",
    "from torchvision import models, datasets, transforms\n",
    "from collections import defaultdict, OrderedDict\n",
    "from copy import deepcopy\n",
    "import re\n",
    "import copy\n",
    "import time\n",
    "import math\n",
    "import logging\n",
    "\n",
    "from torch.utils.data import Dataset, DataLoader\n",
    "from torchvision import models, utils, datasets, transforms\n",
    "from torchvision.datasets.utils import verify_str_arg\n",
    "from torchvision.datasets.utils import download_and_extract_archive\n",
    "import numpy as np\n",
    "import sys\n",
    "import os\n",
    "from PIL import Image"
   ]
  },
  {
   "cell_type": "code",
   "execution_count": null,
   "id": "47530e1d-4264-49bb-ae82-9148da38308c",
   "metadata": {},
   "outputs": [],
   "source": [
    "import global_var"
   ]
  },
  {
   "cell_type": "code",
   "execution_count": null,
   "id": "d5dca127-bfba-4355-944d-5524375687ac",
   "metadata": {},
   "outputs": [],
   "source": [
    "device = \"cuda\" if torch.cuda.is_available() else \"cpu\"\n",
    "torch.set_printoptions(8,sci_mode=True)\n",
    "\n",
    "global_var.set_device(device)"
   ]
  },
  {
   "cell_type": "code",
   "execution_count": null,
   "id": "e1190daa-fdde-4ea5-b0cf-bcb3f80fb70f",
   "metadata": {},
   "outputs": [],
   "source": [
    "torch.cuda.is_available()"
   ]
  },
  {
   "cell_type": "code",
   "execution_count": null,
   "id": "77b1372a-e0fb-42a6-9d4b-7e8f449a7c09",
   "metadata": {},
   "outputs": [],
   "source": [
    "from dataset import *\n",
    "from common_DL import *\n",
    "from gradient_lib import *\n",
    "from federated_learning import *\n",
    "from model_structure import *\n",
    "from utils import *\n",
    "from inversion_attacks import *\n",
    "from model_structure import *\n",
    "\n",
    "from CGI_framework_lib2 import *"
   ]
  },
  {
   "cell_type": "markdown",
   "id": "fae11a09-4a5f-43b4-a7d2-b0277a03fa21",
   "metadata": {},
   "source": [
    "## Dataset"
   ]
  },
  {
   "cell_type": "code",
   "execution_count": null,
   "id": "7862ef5e-dd5b-4ad5-b260-9783b3e4dd93",
   "metadata": {},
   "outputs": [],
   "source": [
    "Cifar100_train_dataset = get_dataset(\"Cifar100\",train=True,transform=None,download=True)\n",
    "Cifar100_test_dataset= get_dataset(\"Cifar100\",train=False,transform=None,download=True)\n",
    "\n",
    "Cifar100_train_loader = torch.utils.data.DataLoader(Cifar100_train_dataset,batch_size=128,shuffle=True)\n",
    "Cifar100_test_loader = torch.utils.data.DataLoader(Cifar100_test_dataset,batch_size=128,shuffle=False)"
   ]
  },
  {
   "cell_type": "code",
   "execution_count": null,
   "id": "4e21524f-f417-4c6a-9760-797b87bb5784",
   "metadata": {},
   "outputs": [],
   "source": [
    "TinyImageNet_train_dataset = get_dataset(\"TinyImageNet\",train=True,transform=None,download=True)\n",
    "TinyImageNet_test_dataset= get_dataset(\"TinyImageNet\",train=False,transform=None,download=True)\n",
    "\n",
    "TinyImageNet_train_loader = torch.utils.data.DataLoader(TinyImageNet_train_dataset,batch_size=32,shuffle=True)\n",
    "TinyImageNet_test_loader = torch.utils.data.DataLoader(TinyImageNet_test_dataset,batch_size=32,shuffle=False)"
   ]
  },
  {
   "cell_type": "code",
   "execution_count": null,
   "id": "6af48d12-61ab-4782-a19f-fc762bf15fa9",
   "metadata": {},
   "outputs": [],
   "source": [
    "CalTech256_train_dataset = get_dataset(\"CalTech256\",train=True,transform=None,download=True)\n",
    "CalTech256_test_dataset= get_dataset(\"CalTech256\",train=False,transform=None,download=True)\n",
    "\n",
    "CalTech256_train_loader = torch.utils.data.DataLoader(CalTech256_train_dataset,batch_size=16,shuffle=True)\n",
    "CalTech256_test_loader = torch.utils.data.DataLoader(CalTech256_test_dataset,batch_size=16,shuffle=False)"
   ]
  },
  {
   "cell_type": "code",
   "execution_count": null,
   "id": "b4b1097a-a49a-456f-b658-c299cc5618ed",
   "metadata": {},
   "outputs": [],
   "source": [
    "test_dataset_dict={\n",
    "    \"TinyImageNet\":TinyImageNet_test_dataset,\n",
    "    \"Cifar100\":Cifar100_test_dataset,\n",
    "    \"CalTech256\":CalTech256_test_dataset\n",
    "}\n",
    "\n",
    "train_dataset_dict={\n",
    "    \"TinyImageNet\":TinyImageNet_train_dataset,\n",
    "    \"Cifar100\":Cifar100_train_dataset,\n",
    "    \"CalTech256\":CalTech256_train_dataset\n",
    "}"
   ]
  },
  {
   "cell_type": "code",
   "execution_count": null,
   "id": "feaac1cc-0c24-47f3-96bb-773c44b9d430",
   "metadata": {},
   "outputs": [],
   "source": [
    "test_loader_dict={\n",
    "    \"TinyImageNet\":TinyImageNet_test_loader,\n",
    "    \"Cifar100\":Cifar100_test_loader,\n",
    "    \"CalTech256\":CalTech256_test_loader\n",
    "}\n",
    "\n",
    "train_loader_dict={\n",
    "    \"TinyImageNet\":TinyImageNet_train_loader,\n",
    "    \"Cifar100\":Cifar100_train_loader,\n",
    "    \"CalTech256\":CalTech256_train_loader\n",
    "}"
   ]
  },
  {
   "cell_type": "code",
   "execution_count": null,
   "id": "ec992b8d-a50e-4e79-af53-276e12f2dbf7",
   "metadata": {},
   "outputs": [],
   "source": [
    "data_info = {\n",
    "    \"test_dataset_dict\":test_dataset_dict,\n",
    "    \"train_dataset_dict\":train_dataset_dict,\n",
    "    \"test_loader_dict\":test_loader_dict,\n",
    "    \"train_loader_dict\":train_loader_dict\n",
    "}"
   ]
  },
  {
   "cell_type": "markdown",
   "id": "e176945b-95ea-4511-84eb-5655ecf6e644",
   "metadata": {},
   "source": [
    "## Exp"
   ]
  },
  {
   "cell_type": "markdown",
   "id": "c00b212b-ddd6-4a34-803a-d925c831413d",
   "metadata": {},
   "source": [
    "### Cifar100"
   ]
  },
  {
   "cell_type": "code",
   "execution_count": null,
   "id": "b7eee130-fd3c-4d61-9a52-39489fe0d432",
   "metadata": {},
   "outputs": [],
   "source": [
    "#Config\n",
    "dataset_name = \"Cifar100\"\n",
    "label_range = 100\n",
    "each_class_num = 400\n",
    "dataset_size = 40000\n",
    "\n",
    "batch_size = 32\n",
    "client_num = 50\n",
    "malicious_num = 10\n",
    "target_class = 0\n",
    "knowledge_level = \"FK\" # FK,SK,NK\n",
    "agr_name = \"MKrum\" # MKrum,Bulyan,AFA,Fang,Standard"
   ]
  },
  {
   "cell_type": "code",
   "execution_count": null,
   "id": "8a6cf93c-2a2f-4093-a31f-da81d68fec4a",
   "metadata": {},
   "outputs": [],
   "source": [
    "model_save_path = \"./model/\"\n",
    "normal_model_name = \"{}_Normal_Model.pth\".format(dataset_name)\n",
    "malicious_model_name = \"{}_{}_{:d}_Malicious_Model.pth\".format(dataset_name,knowledge_level,target_class)\n",
    "repalced_model_name = \"{}_{}_{:d}_{}_Poisoning_Model.pth\".format(dataset_name,knowledge_level,target_class,agr_name)\n",
    "logger_name = \"{}_{}_{:d}_{}_Poisoning\".format(dataset_name,knowledge_level,target_class,agr_name)\n",
    "runtime_logger_name = \"{}_{}_{:d}_{}_Poisoning_Running\".format(dataset_name,knowledge_level,target_class,agr_name)"
   ]
  },
  {
   "cell_type": "code",
   "execution_count": null,
   "id": "280d2130-fdc7-474c-8e55-39826c7e5c85",
   "metadata": {},
   "outputs": [],
   "source": [
    "poi_index = [0] * (client_num - malicious_num) + [1] * malicious_num"
   ]
  },
  {
   "cell_type": "code",
   "execution_count": null,
   "id": "a4ab8330-e6e5-492f-9c68-650dcc311284",
   "metadata": {},
   "outputs": [],
   "source": [
    "# Please do not change lr\n",
    "server = Server(Cifar100_model_generator,optim.SGD,{'lr':0.01})\n",
    "clients = [Client(Cifar100_model_generator,optim.SGD,{'lr':0.01}) for _ in range(client_num)]"
   ]
  },
  {
   "cell_type": "code",
   "execution_count": null,
   "id": "4854e7d5-248e-4683-8a35-14df919e0710",
   "metadata": {},
   "outputs": [],
   "source": [
    "server.load_model(model_save_path+normal_model_name)\n",
    "for index,client in enumerate(clients):\n",
    "    client.load_model(model_save_path+normal_model_name)"
   ]
  },
  {
   "cell_type": "code",
   "execution_count": null,
   "id": "c69e8562-d216-48a0-a0d3-762992ad06dc",
   "metadata": {},
   "outputs": [],
   "source": [
    "general_datasets = sampling_datasets(Cifar100_train_dataset,client_num - malicious_num,label_range,each_class_num)\n",
    "no_target_datasets = sampling_no_target_class_datasets(Cifar100_train_dataset,malicious_num,target_class,dataset_size)"
   ]
  },
  {
   "cell_type": "code",
   "execution_count": null,
   "id": "3f57fb39-65ab-430b-8940-2cc510e6a83f",
   "metadata": {},
   "outputs": [],
   "source": [
    "train_loaders = [torch.utils.data.DataLoader(train_dataset,batch_size=batch_size,shuffle=True) for train_dataset in general_datasets]\n",
    "train_loaders += [torch.utils.data.DataLoader(no_target_dataset,batch_size=batch_size,shuffle=True) for no_target_dataset in no_target_datasets]"
   ]
  },
  {
   "cell_type": "code",
   "execution_count": null,
   "id": "3953131c-d1f8-460c-8bf7-3439756453ba",
   "metadata": {},
   "outputs": [],
   "source": [
    "maintask_Cifar100_dataset = remove_target_class_dataset(Cifar100_train_dataset, target_class, dcopy=False, transform=None)\n",
    "maintask_loader = torch.utils.data.DataLoader(maintask_Cifar100_dataset,batch_size,shuffle=False)\n",
    "entire_train_loader = Cifar100_train_loader"
   ]
  },
  {
   "cell_type": "code",
   "execution_count": null,
   "id": "c6ba2e26-1c34-4ca1-bc66-8733df01df2b",
   "metadata": {},
   "outputs": [],
   "source": [
    "# Malcicious Model\n",
    "replacement_state_dict = torch.load(model_save_path+malicious_model_name)"
   ]
  },
  {
   "cell_type": "code",
   "execution_count": null,
   "id": "bb031d9d-4c90-4b79-a9d2-498c0f682085",
   "metadata": {},
   "outputs": [],
   "source": [
    "logger = get_logger(\"./log/S2/\"+logger_name+\".log\", verbosity=1, name=logger_name)"
   ]
  },
  {
   "cell_type": "code",
   "execution_count": null,
   "id": "a2849473-860a-43a4-9d3a-154d26695ff5",
   "metadata": {},
   "outputs": [],
   "source": [
    "runtime_logger = get_logger(\"./log/S2/\"+runtime_logger_name+\".log\", verbosity=1, name=runtime_logger_name)"
   ]
  },
  {
   "cell_type": "code",
   "execution_count": null,
   "id": "f5bf9cb4-f20a-40c3-9d28-40a686336f0b",
   "metadata": {},
   "outputs": [],
   "source": [
    "set_agr_for_server(agr_name,server,dataset_name,test_dataset_dict,\n",
    "                   runtime_logger,\n",
    "                   malicious_num,\n",
    "                   mal_client_idx=list(range(client_num-malicious_num,client_num)),\n",
    "                   ifprint=False)"
   ]
  },
  {
   "cell_type": "code",
   "execution_count": null,
   "id": "25c5940f-ab98-4c3e-a954-7e8ceeb93834",
   "metadata": {
    "scrolled": true,
    "tags": []
   },
   "outputs": [],
   "source": [
    "try:\n",
    "    for t in range(30):\n",
    "        input = [next(iter(train_loader)) for train_loader in train_loaders]\n",
    "        gradient_list, inference_gradient_AGR, previous_global_model_state_dict = fedSGD_batch_gradient_inference_under_AGR(server,clients,input,return_candidx=False)\n",
    "        train_acc,train_loss,time_elapsed = fedSGD_epoch_model_replacement_against_defence(\n",
    "                server,\n",
    "                clients,\n",
    "                train_loaders,\n",
    "                replacement_state_dict,\n",
    "                inference_gradient_AGR,\n",
    "                target_class,\n",
    "                poi_index=poi_index,\n",
    "                logger=runtime_logger,\n",
    "                scale=100,\n",
    "                optimization_round=1000,\n",
    "                coeff=[1,0,0,0],\n",
    "                threshold=[8e3,1e3,1e4],\n",
    "                init_value=[10,1],\n",
    "                lr=1e-5,\n",
    "                opt_parameter=\"both\",\n",
    "                ifprint=False)\n",
    "        \n",
    "        model = server.global_model\n",
    "        \n",
    "        ref_server = Server(Cifar100_model_generator,optim.SGD,{'lr':0.01})\n",
    "        ref_server.load_model(model_save_path+malicious_model_name)\n",
    "        malicious_model = ref_server.global_model\n",
    "        \n",
    "        model_distance = cal_model_distance(model,malicious_model)\n",
    "        \n",
    "        maintask_acc, maintask_loss = epoch_test(maintask_loader, model)\n",
    "        target_acc, target_loss = epoch_target2(entire_train_loader, model, target_class)\n",
    "        \n",
    "        print(\"-------------Epoch: {}--------------\".format(t))\n",
    "        print(\"Model Distance: {:.6f}\".format(model_distance))\n",
    "        print(\"Model Train Acc: {:.6f}, Model Train Loss: {:.6f}\".format(train_acc,train_loss))\n",
    "        print(\"Model Accuracy on Main Task: {:.6f}, Model Loss on Main Task: {:.6f}\".format(maintask_acc, maintask_loss))\n",
    "        print(\"Model Accuracy on Target Class: {:.6f}, Model Loss on Target Class: {:.6f}\".format(target_acc, target_loss))\n",
    "        print(\"Epoch complete in {:.0f}m {:.0f}s\".format(time_elapsed // 60, time_elapsed % 60))\n",
    "        \n",
    "        runtime_logger.info(\"-------------Epoch: {}--------------\".format(t))\n",
    "        runtime_logger.info(\"Model Distance: {:.6f}\".format(model_distance))\n",
    "        runtime_logger.info(\"Model Train Acc: {:.6f}, Model Train Loss: {:.6f}\".format(train_acc,train_loss))\n",
    "        runtime_logger.info(\"Model Accuracy on Main Task: {:.6f}, Model Loss on Main Task: {:.6f}\".format(maintask_acc, maintask_loss))\n",
    "        runtime_logger.info(\"Model Accuracy on Target Class: {:.6f}, Model Loss on Target Class: {:.6f}\".format(target_acc, target_loss))\n",
    "        runtime_logger.info(\"Epoch complete in {:.0f}m {:.0f}s\".format(time_elapsed // 60, time_elapsed % 60))\n",
    "        \n",
    "        logger.info(\"-------------Epoch: {}--------------\".format(t))\n",
    "        logger.info(\"Model Distance: {:.6f}\".format(model_distance))\n",
    "        logger.info(\"Model Train Acc: {:.6f}, Model Train Loss: {:.6f}\".format(train_acc,train_loss))\n",
    "        logger.info(\"Model Accuracy on Main Task: {:.6f}, Model Loss on Main Task: {:.6f}\".format(maintask_acc, maintask_loss))\n",
    "        logger.info(\"Model Accuracy on Target Class: {:.6f}, Model Loss on Target Class: {:.6f}\".format(target_acc, target_loss))\n",
    "        logger.info(\"Epoch complete in {:.0f}m {:.0f}s\".format(time_elapsed // 60, time_elapsed % 60))\n",
    "    \n",
    "\n",
    "except KeyboardInterrupt:\n",
    "    print(\"Stopping\")"
   ]
  },
  {
   "cell_type": "code",
   "execution_count": null,
   "id": "e0943fce-50c1-42d5-a306-4690972840b6",
   "metadata": {},
   "outputs": [],
   "source": [
    "model = server.global_model\n",
    "\n",
    "ref_server = Server(Cifar100_model_generator,optim.SGD,{'lr':0.01})\n",
    "ref_server.load_model(model_save_path + malicious_model_name)\n",
    "malicious_model = ref_server.global_model\n",
    "\n",
    "model_distance = cal_model_distance(model,malicious_model)\n",
    "\n",
    "maintask_acc, maintask_loss = epoch_test(maintask_loader, model)\n",
    "target_acc, target_loss = epoch_target2(entire_train_loader, model, target_class)\n",
    "\n",
    "print(\"Model Distance: {:.6f}\".format(model_distance))\n",
    "print(\"Model Accuracy on Main Task: {:.6f}, Model Loss on Main Task: {:.6f}\".format(maintask_acc, maintask_loss))\n",
    "print(\"Model Accuracy on Target Class: {:.6f}, Model Loss on Target Class: {:.6f}\".format(target_acc, target_loss))"
   ]
  },
  {
   "cell_type": "code",
   "execution_count": null,
   "id": "b14c5423-63a8-44b8-aa23-74ff5085329e",
   "metadata": {},
   "outputs": [],
   "source": [
    "server.save_model(model_save_path+repalced_model_name)"
   ]
  },
  {
   "cell_type": "markdown",
   "id": "975df8d6-7e3d-42cc-958b-8381093cd762",
   "metadata": {},
   "source": [
    "### TinyImageNet"
   ]
  },
  {
   "cell_type": "code",
   "execution_count": null,
   "id": "d5243d8d-271c-4b37-a9e8-5060f8f3d616",
   "metadata": {},
   "outputs": [],
   "source": [
    "#Config\n",
    "dataset_name = \"TinyImageNet\"\n",
    "label_range = 200\n",
    "each_class_num = 400\n",
    "dataset_size = 80000\n",
    "\n",
    "batch_size = 32\n",
    "client_num = 40\n",
    "malicious_num = 8\n",
    "target_class = 0\n",
    "knowledge_level = \"FK\" # FK,SK,NK\n",
    "agr_name = \"AFA\" # MKrum,Bulyan,AFA,Fang,Standard"
   ]
  },
  {
   "cell_type": "code",
   "execution_count": null,
   "id": "8d4fcb0a-d24c-440a-82c6-9a09f0667139",
   "metadata": {},
   "outputs": [],
   "source": [
    "model_save_path = \"./model/\"\n",
    "normal_model_name = \"{}_Normal_Model.pth\".format(dataset_name)\n",
    "malicious_model_name = \"{}_{}_{:d}_Malicious_Model.pth\".format(dataset_name,knowledge_level,target_class)\n",
    "repalced_model_name = \"{}_{}_{:d}_{}_Poisoning_Model.pth\".format(dataset_name,knowledge_level,target_class,agr_name)\n",
    "logger_name = \"{}_{}_{:d}_{}_Poisoning\".format(dataset_name,knowledge_level,target_class,agr_name)\n",
    "runtime_logger_name = \"{}_{}_{:d}_{}_Poisoning_Running\".format(dataset_name,knowledge_level,target_class,agr_name)"
   ]
  },
  {
   "cell_type": "code",
   "execution_count": null,
   "id": "a20bdf7f-6e49-482d-854c-f1866d852b24",
   "metadata": {},
   "outputs": [],
   "source": [
    "poi_index = [0] * (client_num - malicious_num) + [1] * malicious_num"
   ]
  },
  {
   "cell_type": "code",
   "execution_count": null,
   "id": "1ade0c42-d57c-41a0-876a-7efd40051f6d",
   "metadata": {},
   "outputs": [],
   "source": [
    "# Please do not change lr\n",
    "server = Server(TinyImageNet_model_generator,optim.SGD,{'lr':0.01})\n",
    "clients = [Client(TinyImageNet_model_generator,optim.SGD,{'lr':0.01}) for _ in range(client_num)]"
   ]
  },
  {
   "cell_type": "code",
   "execution_count": null,
   "id": "b4496aa1-66f4-488f-87c8-add2536de2de",
   "metadata": {},
   "outputs": [],
   "source": [
    "server.load_model(model_save_path+normal_model_name)\n",
    "for index,client in enumerate(clients):\n",
    "    client.load_model(model_save_path+normal_model_name)"
   ]
  },
  {
   "cell_type": "code",
   "execution_count": null,
   "id": "5f720d8a-8069-4558-b616-fc80d54f8489",
   "metadata": {},
   "outputs": [],
   "source": [
    "general_datasets = sampling_datasets(TinyImageNet_train_dataset,client_num - malicious_num,label_range,each_class_num)\n",
    "no_target_datasets = sampling_no_target_class_datasets(TinyImageNet_train_dataset,malicious_num,target_class,dataset_size)"
   ]
  },
  {
   "cell_type": "code",
   "execution_count": null,
   "id": "1327686d-d61a-4667-9edc-9ce916fa2586",
   "metadata": {},
   "outputs": [],
   "source": [
    "train_loaders = [torch.utils.data.DataLoader(train_dataset,batch_size=batch_size,shuffle=True) for train_dataset in general_datasets]\n",
    "train_loaders += [torch.utils.data.DataLoader(no_target_dataset,batch_size=batch_size,shuffle=True) for no_target_dataset in no_target_datasets]"
   ]
  },
  {
   "cell_type": "code",
   "execution_count": null,
   "id": "de4c5733-b86a-4f9e-8626-9355e51078b7",
   "metadata": {},
   "outputs": [],
   "source": [
    "maintask_TinyImageNet_dataset = remove_target_class_dataset(TinyImageNet_train_dataset, target_class, dcopy=False, transform=None)\n",
    "maintask_loader = torch.utils.data.DataLoader(maintask_TinyImageNet_dataset,batch_size,shuffle=False)\n",
    "entire_train_loader = TinyImageNet_train_loader"
   ]
  },
  {
   "cell_type": "code",
   "execution_count": null,
   "id": "469b6351-1010-4e82-9be5-80b218941e01",
   "metadata": {},
   "outputs": [],
   "source": [
    "# Malcicious Model\n",
    "replacement_state_dict = torch.load(model_save_path+malicious_model_name)"
   ]
  },
  {
   "cell_type": "code",
   "execution_count": null,
   "id": "6aaca680-a667-432c-b63b-7a0adb0c239d",
   "metadata": {},
   "outputs": [],
   "source": [
    "logger = get_logger(\"./log/S2/\"+logger_name+\".log\", verbosity=1, name=logger_name)"
   ]
  },
  {
   "cell_type": "code",
   "execution_count": null,
   "id": "95cec8e6-4c18-4de9-8e7a-25cf31b6da76",
   "metadata": {},
   "outputs": [],
   "source": [
    "runtime_logger = get_logger(\"./log/S2/\"+runtime_logger_name+\".log\", verbosity=1, name=runtime_logger_name)"
   ]
  },
  {
   "cell_type": "code",
   "execution_count": null,
   "id": "1e10eddf-9b05-4bd5-a724-db2f43c166b5",
   "metadata": {},
   "outputs": [],
   "source": [
    "set_agr_for_server(agr_name,server,dataset_name,test_dataset_dict,\n",
    "                   runtime_logger,\n",
    "                   malicious_num,\n",
    "                   mal_client_idx=list(range(client_num-malicious_num,client_num)),\n",
    "                   ifprint=False)"
   ]
  },
  {
   "cell_type": "code",
   "execution_count": null,
   "id": "faf601c5-b200-4438-b0e7-fd805c95062c",
   "metadata": {
    "scrolled": true,
    "tags": []
   },
   "outputs": [],
   "source": [
    "try:\n",
    "    for t in range(30):\n",
    "        input = [next(iter(train_loader)) for train_loader in train_loaders]\n",
    "        gradient_list, inference_gradient_AGR, previous_global_model_state_dict = fedSGD_batch_gradient_inference_under_AGR(server,clients,input,return_candidx=False)\n",
    "        train_acc,train_loss,time_elapsed = fedSGD_epoch_model_replacement_against_defence(\n",
    "                server,\n",
    "                clients,\n",
    "                train_loaders,\n",
    "                replacement_state_dict,\n",
    "                inference_gradient_AGR,\n",
    "                target_class,\n",
    "                poi_index=poi_index,\n",
    "                logger=runtime_logger,\n",
    "                unit_dir_opt=True,\n",
    "                scale=100,\n",
    "                optimization_round=1000,\n",
    "                coeff=[1,0,0,0],\n",
    "                threshold=[8e3,1e3,1e4],\n",
    "                init_value=[10,1],\n",
    "                lr=1e-5,\n",
    "                opt_parameter=\"both\",\n",
    "                ifprint=False)\n",
    "        \n",
    "        model = server.global_model\n",
    "        \n",
    "        ref_server = Server(TinyImageNet_model_generator,optim.SGD,{'lr':0.01})\n",
    "        ref_server.load_model(model_save_path+malicious_model_path)\n",
    "        malicious_model = ref_server.global_model\n",
    "        \n",
    "        model_distance = cal_model_distance(model,malicious_model)\n",
    "        \n",
    "        maintask_acc, maintask_loss = epoch_test(maintask_loader, model)\n",
    "        target_acc, target_loss = epoch_target2(entire_train_loader, model, target_class)\n",
    "        \n",
    "        print(\"-------------Epoch: {}--------------\".format(t))\n",
    "        print(\"Model Distance: {:.6f}\".format(model_distance))\n",
    "        print(\"Model Train Acc: {:.6f}, Model Train Loss: {:.6f}\".format(train_acc,train_loss))\n",
    "        print(\"Model Accuracy on Main Task: {:.6f}, Model Loss on Main Task: {:.6f}\".format(maintask_acc, maintask_loss))\n",
    "        print(\"Model Accuracy on Target Class: {:.6f}, Model Loss on Target Class: {:.6f}\".format(target_acc, target_loss))\n",
    "        print(\"Epoch complete in {:.0f}m {:.0f}s\".format(time_elapsed // 60, time_elapsed % 60))\n",
    "        \n",
    "        runtime_logger.info(\"-------------Epoch: {}--------------\".format(t))\n",
    "        runtime_logger.info(\"Model Distance: {:.6f}\".format(model_distance))\n",
    "        runtime_logger.info(\"Model Train Acc: {:.6f}, Model Train Loss: {:.6f}\".format(train_acc,train_loss))\n",
    "        runtime_logger.info(\"Model Accuracy on Main Task: {:.6f}, Model Loss on Main Task: {:.6f}\".format(maintask_acc, maintask_loss))\n",
    "        runtime_logger.info(\"Model Accuracy on Target Class: {:.6f}, Model Loss on Target Class: {:.6f}\".format(target_acc, target_loss))\n",
    "        runtime_logger.info(\"Epoch complete in {:.0f}m {:.0f}s\".format(time_elapsed // 60, time_elapsed % 60))\n",
    "        \n",
    "        logger.info(\"-------------Epoch: {}--------------\".format(t))\n",
    "        logger.info(\"Model Distance: {:.6f}\".format(model_distance))\n",
    "        logger.info(\"Model Train Acc: {:.6f}, Model Train Loss: {:.6f}\".format(train_acc,train_loss))\n",
    "        logger.info(\"Model Accuracy on Main Task: {:.6f}, Model Loss on Main Task: {:.6f}\".format(maintask_acc, maintask_loss))\n",
    "        logger.info(\"Model Accuracy on Target Class: {:.6f}, Model Loss on Target Class: {:.6f}\".format(target_acc, target_loss))\n",
    "        logger.info(\"Epoch complete in {:.0f}m {:.0f}s\".format(time_elapsed // 60, time_elapsed % 60))\n",
    "    \n",
    "\n",
    "except KeyboardInterrupt:\n",
    "    print(\"Stopping\")"
   ]
  },
  {
   "cell_type": "code",
   "execution_count": null,
   "id": "128917f2-ab21-48f0-bc2d-7f4b60174c0e",
   "metadata": {},
   "outputs": [],
   "source": [
    "model = server.global_model\n",
    "\n",
    "ref_server = Server(TinyImageNet_model_generator,optim.SGD,{'lr':0.01})\n",
    "ref_server.load_model(model_save_path + malicious_model_name)\n",
    "malicious_model = ref_server.global_model\n",
    "\n",
    "model_distance = cal_model_distance(model,malicious_model)\n",
    "\n",
    "maintask_acc, maintask_loss = epoch_test(maintask_loader, model)\n",
    "target_acc, target_loss = epoch_target2(entire_train_loader, model, target_class)\n",
    "\n",
    "\n",
    "print(\"Model Distance: {:.6f}\".format(model_distance))\n",
    "print(\"Model Accuracy on Main Task: {:.6f}, Model Loss on Main Task: {:.6f}\".format(maintask_acc, maintask_loss))\n",
    "print(\"Model Accuracy on Target Class: {:.6f}, Model Loss on Target Class: {:.6f}\".format(target_acc, target_loss))"
   ]
  },
  {
   "cell_type": "code",
   "execution_count": null,
   "id": "9635aee4-ff66-4a0e-8f5a-3add27e79bf0",
   "metadata": {},
   "outputs": [],
   "source": [
    "server.save_model(model_save_path+repalced_model_name)"
   ]
  },
  {
   "cell_type": "markdown",
   "id": "59dc64f6-1461-4daf-99d1-7e067dd3cb4e",
   "metadata": {},
   "source": [
    "### Caltech256"
   ]
  },
  {
   "cell_type": "code",
   "execution_count": null,
   "id": "e0792493-cc6d-459b-87c9-23e89d7eb78a",
   "metadata": {},
   "outputs": [],
   "source": [
    "#Config\n",
    "dataset_name = \"CalTech256\"\n",
    "label_range = 256\n",
    "each_class_num = 200\n",
    "dataset_size = 51200\n",
    "\n",
    "batch_size = 8\n",
    "client_num = 10\n",
    "malicious_num = 2\n",
    "target_class = 48\n",
    "knowledge_level = \"SK\" # FK,SK,NK\n",
    "agr_name = \"MKrum\" # MKrum,Bulyan,AFA,Fang,Standard"
   ]
  },
  {
   "cell_type": "code",
   "execution_count": null,
   "id": "54248cd7-be65-4656-af6b-c226f2510d94",
   "metadata": {},
   "outputs": [],
   "source": [
    "model_save_path = \"./model/\"\n",
    "normal_model_name = \"{}_Normal_Model.pth\".format(dataset_name)\n",
    "malicious_model_name = \"{}_{}_{:d}_Malicious_Model.pth\".format(dataset_name,knowledge_level,target_class)\n",
    "repalced_model_name = \"{}_{}_{:d}_{}_Poisoning_Model.pth\".format(dataset_name,knowledge_level,target_class,agr_name)\n",
    "logger_name = \"{}_{}_{:d}_{}_Poisoning\".format(dataset_name,knowledge_level,target_class,agr_name)\n",
    "runtime_logger_name = \"{}_{}_{:d}_{}_Poisoning_Running\".format(dataset_name,knowledge_level,target_class,agr_name)"
   ]
  },
  {
   "cell_type": "code",
   "execution_count": null,
   "id": "b18f4146-c67c-4842-8939-34ddace13258",
   "metadata": {},
   "outputs": [],
   "source": [
    "poi_index = [0] * (client_num - malicious_num) + [1] * malicious_num"
   ]
  },
  {
   "cell_type": "code",
   "execution_count": null,
   "id": "9ff78cec-0482-4dd1-abc7-cf65f50e9ab3",
   "metadata": {},
   "outputs": [],
   "source": [
    "# Please do not change lr\n",
    "server = Server(CalTech256_model_generator,optim.SGD,{'lr':0.01})\n",
    "clients = [Client(CalTech256_model_generator,optim.SGD,{'lr':0.01}) for _ in range(client_num)]"
   ]
  },
  {
   "cell_type": "code",
   "execution_count": null,
   "id": "a1f1f0a5-379b-441d-b760-08ac8ad72e30",
   "metadata": {},
   "outputs": [],
   "source": [
    "server.load_model(model_save_path+normal_model_name)\n",
    "for index,client in enumerate(clients):\n",
    "    client.load_model(model_save_path+normal_model_name)"
   ]
  },
  {
   "cell_type": "code",
   "execution_count": null,
   "id": "80ab38f2-a615-4299-be08-3a32b583182b",
   "metadata": {},
   "outputs": [],
   "source": [
    "general_datasets = sampling_datasets(CalTech256_train_dataset,client_num - malicious_num,label_range,each_class_num)\n",
    "no_target_datasets = sampling_no_target_class_datasets(CalTech256_train_dataset,malicious_num,target_class,dataset_size)"
   ]
  },
  {
   "cell_type": "code",
   "execution_count": null,
   "id": "1bb0a4b4-3b81-46b4-90c6-cd37833f4feb",
   "metadata": {},
   "outputs": [],
   "source": [
    "train_loaders = [torch.utils.data.DataLoader(train_dataset,batch_size=batch_size,shuffle=True) for train_dataset in general_datasets]\n",
    "train_loaders += [torch.utils.data.DataLoader(no_target_dataset,batch_size=batch_size,shuffle=True) for no_target_dataset in no_target_datasets]"
   ]
  },
  {
   "cell_type": "code",
   "execution_count": null,
   "id": "bef10a87-41d1-45c8-8411-7508d1bb9b1c",
   "metadata": {},
   "outputs": [],
   "source": [
    "maintask_CalTech256_dataset = remove_target_class_dataset(CalTech256_train_dataset, target_class, dcopy=False, transform=None)\n",
    "maintask_loader = torch.utils.data.DataLoader(maintask_CalTech256_dataset,batch_size,shuffle=False)\n",
    "entire_train_loader = CalTech256_train_loader"
   ]
  },
  {
   "cell_type": "code",
   "execution_count": null,
   "id": "274d6ee0-5acf-4d4d-8fda-893c5b4e90a6",
   "metadata": {},
   "outputs": [],
   "source": [
    "# Malcicious Model\n",
    "replacement_state_dict = torch.load(model_save_path+malicious_model_name)"
   ]
  },
  {
   "cell_type": "code",
   "execution_count": null,
   "id": "9bf71281-16c8-4b29-a411-459aad5fa746",
   "metadata": {},
   "outputs": [],
   "source": [
    "logger = get_logger(\"./log/S2/\"+logger_name+\".log\", verbosity=1, name=logger_name)"
   ]
  },
  {
   "cell_type": "code",
   "execution_count": null,
   "id": "8900da5e-a903-4495-bd32-b90fad49e496",
   "metadata": {},
   "outputs": [],
   "source": [
    "runtime_logger = get_logger(\"./log/S2/\"+runtime_logger_name+\".log\", verbosity=1, name=runtime_logger_name)"
   ]
  },
  {
   "cell_type": "code",
   "execution_count": null,
   "id": "e820d0dc-4ca2-4f17-83bf-f0676e0cad78",
   "metadata": {},
   "outputs": [],
   "source": [
    "set_agr_for_server(agr_name,server,dataset_name,test_dataset_dict,\n",
    "                   runtime_logger,\n",
    "                   malicious_num,\n",
    "                   mal_client_idx=list(range(client_num-malicious_num,client_num)),\n",
    "                   ifprint=False)"
   ]
  },
  {
   "cell_type": "code",
   "execution_count": null,
   "id": "7ade04a8-f389-46a2-a038-1976b1499e1c",
   "metadata": {
    "scrolled": true,
    "tags": []
   },
   "outputs": [],
   "source": [
    "try:\n",
    "    for t in range(30):\n",
    "        input = [next(iter(train_loader)) for train_loader in train_loaders]\n",
    "        gradient_list, inference_gradient_AGR, previous_global_model_state_dict = fedSGD_batch_gradient_inference_under_AGR(server,clients,input,return_candidx=False)\n",
    "        train_acc,train_loss,time_elapsed = fedSGD_epoch_model_replacement_against_defence(\n",
    "                server,\n",
    "                clients,\n",
    "                train_loaders,\n",
    "                replacement_state_dict,\n",
    "                inference_gradient_AGR,\n",
    "                target_class,\n",
    "                poi_index=poi_index,\n",
    "                logger=runtime_logger,\n",
    "                scale=100,\n",
    "                optimization_round=1000,\n",
    "                coeff=[1,0,0,0],\n",
    "                threshold=[8e3,1e3,1e4],\n",
    "                init_value=[10,1],\n",
    "                lr=1e-5,\n",
    "                opt_parameter=\"both\",\n",
    "                ifprint=False)\n",
    "        \n",
    "        model = server.global_model\n",
    "        \n",
    "        ref_server = Server(CalTech256_model_generator,optim.SGD,{'lr':0.01})\n",
    "        ref_server.load_model(model_save_path+malicious_model_path)\n",
    "        malicious_model = ref_server.global_model\n",
    "        \n",
    "        model_distance = cal_model_distance(model,malicious_model)\n",
    "        \n",
    "        maintask_acc, maintask_loss = epoch_test(maintask_loader, model)\n",
    "        target_acc, target_loss = epoch_target2(entire_train_loader, model, target_class)\n",
    "        \n",
    "        print(\"-------------Epoch: {}--------------\".format(t))\n",
    "        print(\"Model Distance: {:.6f}\".format(model_distance))\n",
    "        print(\"Model Train Acc: {:.6f}, Model Train Loss: {:.6f}\".format(train_acc,train_loss))\n",
    "        print(\"Model Accuracy on Main Task: {:.6f}, Model Loss on Main Task: {:.6f}\".format(maintask_acc, maintask_loss))\n",
    "        print(\"Model Accuracy on Target Class: {:.6f}, Model Loss on Target Class: {:.6f}\".format(target_acc, target_loss))\n",
    "        print(\"Epoch complete in {:.0f}m {:.0f}s\".format(time_elapsed // 60, time_elapsed % 60))\n",
    "        \n",
    "        runtime_logger.info(\"-------------Epoch: {}--------------\".format(t))\n",
    "        runtime_logger.info(\"Model Distance: {:.6f}\".format(model_distance))\n",
    "        runtime_logger.info(\"Model Train Acc: {:.6f}, Model Train Loss: {:.6f}\".format(train_acc,train_loss))\n",
    "        runtime_logger.info(\"Model Accuracy on Main Task: {:.6f}, Model Loss on Main Task: {:.6f}\".format(maintask_acc, maintask_loss))\n",
    "        runtime_logger.info(\"Model Accuracy on Target Class: {:.6f}, Model Loss on Target Class: {:.6f}\".format(target_acc, target_loss))\n",
    "        runtime_logger.info(\"Epoch complete in {:.0f}m {:.0f}s\".format(time_elapsed // 60, time_elapsed % 60))\n",
    "        \n",
    "        logger.info(\"-------------Epoch: {}--------------\".format(t))\n",
    "        logger.info(\"Model Distance: {:.6f}\".format(model_distance))\n",
    "        logger.info(\"Model Train Acc: {:.6f}, Model Train Loss: {:.6f}\".format(train_acc,train_loss))\n",
    "        logger.info(\"Model Accuracy on Main Task: {:.6f}, Model Loss on Main Task: {:.6f}\".format(maintask_acc, maintask_loss))\n",
    "        logger.info(\"Model Accuracy on Target Class: {:.6f}, Model Loss on Target Class: {:.6f}\".format(target_acc, target_loss))\n",
    "        logger.info(\"Epoch complete in {:.0f}m {:.0f}s\".format(time_elapsed // 60, time_elapsed % 60))\n",
    "    \n",
    "\n",
    "except KeyboardInterrupt:\n",
    "    print(\"Stopping\")"
   ]
  },
  {
   "cell_type": "code",
   "execution_count": null,
   "id": "f85eb45e-3eae-4813-8ed2-c888849c1f6a",
   "metadata": {},
   "outputs": [],
   "source": [
    "model = server.global_model\n",
    "\n",
    "ref_server = Server(CalTech256_model_generator,optim.SGD,{'lr':0.01})\n",
    "ref_server.load_model(model_save_path + malicious_model_name)\n",
    "malicious_model = ref_server.global_model\n",
    "\n",
    "model_distance = cal_model_distance(model,malicious_model)\n",
    "\n",
    "maintask_acc, maintask_loss = epoch_test(maintask_loader, model)\n",
    "target_acc, target_loss = epoch_target2(entire_train_loader, model, target_class)\n",
    "\n",
    "print(\"Model Distance: {:.6f}\".format(model_distance))\n",
    "print(\"Model Accuracy on Main Task: {:.6f}, Model Loss on Main Task: {:.6f}\".format(maintask_acc, maintask_loss))\n",
    "print(\"Model Accuracy on Target Class: {:.6f}, Model Loss on Target Class: {:.6f}\".format(target_acc, target_loss))"
   ]
  },
  {
   "cell_type": "code",
   "execution_count": null,
   "id": "71050ce2-51d4-4ef2-a4a3-f5114b19877a",
   "metadata": {},
   "outputs": [],
   "source": [
    "server.save_model(model_save_path+repalced_model_name)"
   ]
  }
 ],
 "metadata": {
  "kernelspec": {
   "display_name": "Python 3 (ipykernel)",
   "language": "python",
   "name": "python3"
  },
  "language_info": {
   "codemirror_mode": {
    "name": "ipython",
    "version": 3
   },
   "file_extension": ".py",
   "mimetype": "text/x-python",
   "name": "python",
   "nbconvert_exporter": "python",
   "pygments_lexer": "ipython3",
   "version": "3.8.15"
  }
 },
 "nbformat": 4,
 "nbformat_minor": 5
}
