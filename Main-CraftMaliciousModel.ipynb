{
 "cells": [
  {
   "cell_type": "markdown",
   "id": "f564b651-8337-4f15-97c2-4282e9de5313",
   "metadata": {},
   "source": [
    "# CGI - Step 1: Craft Malicious Models"
   ]
  },
  {
   "cell_type": "code",
   "execution_count": null,
   "id": "02157cad-5a4e-4080-91d0-94f5baa7e451",
   "metadata": {},
   "outputs": [],
   "source": [
    "%load_ext autoreload\n",
    "%autoreload 2"
   ]
  },
  {
   "cell_type": "markdown",
   "id": "c2136b64-1733-4263-b86c-ceb8cba9a107",
   "metadata": {},
   "source": [
    "## Lib"
   ]
  },
  {
   "cell_type": "code",
   "execution_count": null,
   "id": "dadaf8e8-f50e-4f43-9dfb-271041794059",
   "metadata": {},
   "outputs": [],
   "source": [
    "import numpy as np\n",
    "from PIL import Image\n",
    "import matplotlib.pyplot as plt\n",
    "import random\n",
    "import torch\n",
    "import torch.optim as optim\n",
    "import torch.nn as nn\n",
    "import torch.nn.functional as F\n",
    "from torch.autograd import grad\n",
    "import torchvision\n",
    "import torchvision.utils as vutils\n",
    "from torchvision import models, datasets, transforms\n",
    "from collections import defaultdict, OrderedDict\n",
    "from copy import deepcopy\n",
    "import re\n",
    "import copy\n",
    "import time\n",
    "import math\n",
    "import logging\n",
    "\n",
    "from torch.utils.data import Dataset, DataLoader\n",
    "from torchvision import models, utils, datasets, transforms\n",
    "from torchvision.datasets.utils import verify_str_arg\n",
    "from torchvision.datasets.utils import download_and_extract_archive\n",
    "import numpy as np\n",
    "import sys\n",
    "import os\n",
    "from PIL import Image"
   ]
  },
  {
   "cell_type": "code",
   "execution_count": null,
   "id": "47530e1d-4264-49bb-ae82-9148da38308c",
   "metadata": {},
   "outputs": [],
   "source": [
    "import global_var"
   ]
  },
  {
   "cell_type": "code",
   "execution_count": null,
   "id": "d5dca127-bfba-4355-944d-5524375687ac",
   "metadata": {},
   "outputs": [],
   "source": [
    "device = \"cuda\" if torch.cuda.is_available() else \"cpu\"\n",
    "torch.set_printoptions(8,sci_mode=True)\n",
    "\n",
    "global_var.set_device(device)"
   ]
  },
  {
   "cell_type": "code",
   "execution_count": null,
   "id": "e1190daa-fdde-4ea5-b0cf-bcb3f80fb70f",
   "metadata": {},
   "outputs": [],
   "source": [
    "torch.cuda.is_available()"
   ]
  },
  {
   "cell_type": "code",
   "execution_count": null,
   "id": "77b1372a-e0fb-42a6-9d4b-7e8f449a7c09",
   "metadata": {},
   "outputs": [],
   "source": [
    "from dataset import *\n",
    "from common_DL import *\n",
    "from gradient_lib import *\n",
    "from federated_learning import *\n",
    "from model_structure import *\n",
    "from utils import *\n",
    "from inversion_attacks import *\n",
    "from model_structure import *\n",
    "\n",
    "from CGI_framework_lib1 import *"
   ]
  },
  {
   "cell_type": "markdown",
   "id": "fae11a09-4a5f-43b4-a7d2-b0277a03fa21",
   "metadata": {},
   "source": [
    "## Dataset"
   ]
  },
  {
   "cell_type": "code",
   "execution_count": null,
   "id": "7862ef5e-dd5b-4ad5-b260-9783b3e4dd93",
   "metadata": {},
   "outputs": [],
   "source": [
    "Cifar100_train_dataset = get_dataset(\"Cifar100\",train=True,transform=None,download=True)\n",
    "Cifar100_test_dataset= get_dataset(\"Cifar100\",train=False,transform=None,download=True)\n",
    "\n",
    "Cifar100_train_loader = torch.utils.data.DataLoader(Cifar100_train_dataset,batch_size=128,shuffle=True)\n",
    "Cifar100_test_loader = torch.utils.data.DataLoader(Cifar100_test_dataset,batch_size=128,shuffle=False)"
   ]
  },
  {
   "cell_type": "code",
   "execution_count": null,
   "id": "4e21524f-f417-4c6a-9760-797b87bb5784",
   "metadata": {},
   "outputs": [],
   "source": [
    "TinyImageNet_train_dataset = get_dataset(\"TinyImageNet\",train=True,transform=None,download=True)\n",
    "TinyImageNet_test_dataset= get_dataset(\"TinyImageNet\",train=False,transform=None,download=True)\n",
    "\n",
    "TinyImageNet_train_loader = torch.utils.data.DataLoader(TinyImageNet_train_dataset,batch_size=32,shuffle=True)\n",
    "TinyImageNet_test_loader = torch.utils.data.DataLoader(TinyImageNet_test_dataset,batch_size=32,shuffle=False)"
   ]
  },
  {
   "cell_type": "code",
   "execution_count": null,
   "id": "6af48d12-61ab-4782-a19f-fc762bf15fa9",
   "metadata": {},
   "outputs": [],
   "source": [
    "CalTech256_train_dataset = get_dataset(\"CalTech256\",train=True,transform=None,download=True)\n",
    "CalTech256_test_dataset= get_dataset(\"CalTech256\",train=False,transform=None,download=True)\n",
    "\n",
    "CalTech256_train_loader = torch.utils.data.DataLoader(CalTech256_train_dataset,batch_size=16,shuffle=True)\n",
    "CalTech256_test_loader = torch.utils.data.DataLoader(CalTech256_test_dataset,batch_size=16,shuffle=False)"
   ]
  },
  {
   "cell_type": "markdown",
   "id": "e176945b-95ea-4511-84eb-5655ecf6e644",
   "metadata": {},
   "source": [
    "## Exp"
   ]
  },
  {
   "cell_type": "markdown",
   "id": "c00b212b-ddd6-4a34-803a-d925c831413d",
   "metadata": {},
   "source": [
    "### Cifar100"
   ]
  },
  {
   "cell_type": "markdown",
   "id": "6b9d5e23-0dcd-4f69-9753-9695954e8ffc",
   "metadata": {
    "tags": []
   },
   "source": [
    "#### Cifar100 Federated Learning"
   ]
  },
  {
   "cell_type": "code",
   "execution_count": null,
   "id": "a678bef6-a9c1-46e4-b124-9d63ce0ae092",
   "metadata": {},
   "outputs": [],
   "source": [
    "lr = 1e-2\n",
    "client_num = 50\n",
    "epoch_num = 30\n",
    "batch_size = 128\n",
    "each_dataset_size = 30000"
   ]
  },
  {
   "cell_type": "code",
   "execution_count": null,
   "id": "b5414a11-45e5-4e28-be60-6008502a15b2",
   "metadata": {},
   "outputs": [],
   "source": [
    "server = Server(Cifar100_model_generator,optim.SGD,{'lr':lr})\n",
    "clients = [Client(Cifar100_model_generator,optim.SGD,{'lr':lr}) for _ in range(client_num)]"
   ]
  },
  {
   "cell_type": "code",
   "execution_count": null,
   "id": "cb7aa75d-9245-4729-b7e5-6b53512e2379",
   "metadata": {},
   "outputs": [],
   "source": [
    "Cifar100_train_datasets = sampling_datasets_iid(Cifar100_train_dataset,client_num,each_dataset_size)\n",
    "train_loaders = [torch.utils.data.DataLoader(Cifar100_train_dataset,batch_size,shuffle=True) for train_dataset in Cifar100_train_datasets]"
   ]
  },
  {
   "cell_type": "code",
   "execution_count": null,
   "id": "633430fc-37a3-4d6d-a5cc-93fbdb26a073",
   "metadata": {
    "scrolled": true,
    "tags": []
   },
   "outputs": [],
   "source": [
    "try:\n",
    "    for t in range(epoch_num):\n",
    "        train_acc,train_loss,test_acc,test_loss,time_elapsed = fedSGD_epoch(server,clients,train_loaders,Cifar100_test_loader)\n",
    "\n",
    "        print(\"-------------Epoch: %d--------------\" % t)\n",
    "        print(\"Train_Acc: {:.6f} ,Test_Acc: {:.6f}\".format(train_acc, test_acc))\n",
    "        print(\"Epoch complete in {:.0f}m {:.0f}s\".format(time_elapsed // 60, time_elapsed % 60))\n",
    "\n",
    "except KeyboardInterrupt:\n",
    "    print(\"Stopping\")"
   ]
  },
  {
   "cell_type": "code",
   "execution_count": null,
   "id": "68b57e1d-b3c2-4df4-98e1-64917bcac72b",
   "metadata": {},
   "outputs": [],
   "source": [
    "server.save_model(\"./model/Cifar100_Normal_Model.pth\")"
   ]
  },
  {
   "cell_type": "code",
   "execution_count": null,
   "id": "ec38ac0f-e2a9-466f-b791-a45dae4aba15",
   "metadata": {},
   "outputs": [],
   "source": [
    "server.load_model(\"./model/Cifar100_Normal_Model.pth\")"
   ]
  },
  {
   "cell_type": "markdown",
   "id": "93978922-3ac8-4f8c-a753-69c260ea5103",
   "metadata": {},
   "source": [
    "#### Cifar100 Full Knowledge "
   ]
  },
  {
   "cell_type": "code",
   "execution_count": null,
   "id": "81d8fd7b-f7ff-4b0e-abcd-7fa1d62e9d1b",
   "metadata": {},
   "outputs": [],
   "source": [
    "target_class = 0\n",
    "dataset_size = 100000\n",
    "batch_size = 128\n",
    "dataset_name = \"Cifar100\""
   ]
  },
  {
   "cell_type": "code",
   "execution_count": null,
   "id": "f305fbcb-f1f6-46ee-afc9-65777d95fbc6",
   "metadata": {},
   "outputs": [],
   "source": [
    "client = Client(Cifar100_model_generator,optim.SGD,{'lr':0.01})"
   ]
  },
  {
   "cell_type": "code",
   "execution_count": null,
   "id": "ff6ae3df-4e5e-4d54-bb76-7f9a1f2d5ea2",
   "metadata": {},
   "outputs": [],
   "source": [
    "no_target_Cifar100_dataset = sampling_no_target_class_dataset(Cifar100_train_dataset,target_class,dataset_size,dcopy=False)\n",
    "no_target_Cifar100_train_loader = torch.utils.data.DataLoader(no_target_Cifar100_dataset,batch_size,shuffle=True)"
   ]
  },
  {
   "cell_type": "code",
   "execution_count": null,
   "id": "14df9e0f-5b00-413c-9aa9-64e0f646c8a6",
   "metadata": {},
   "outputs": [],
   "source": [
    "maintask_Cifar100_dataset = remove_target_class_dataset(Cifar100_train_dataset, target_class, dcopy=False, transform=None)\n",
    "maintask_Cifar100_loader = torch.utils.data.DataLoader(maintask_Cifar100_dataset,batch_size,shuffle=False)"
   ]
  },
  {
   "cell_type": "code",
   "execution_count": null,
   "id": "33817ff4-d2fd-47a7-a36e-a7a4878b84ee",
   "metadata": {},
   "outputs": [],
   "source": [
    "hyperparameter_dict = {\n",
    "                \"main_task_lr\" : 1e-2,\n",
    "                \"main_task_lr_decay\" : True,\n",
    "                \"main_task_lr_decay_gamma\" : 0.1,\n",
    "                \"main_task_lr_decay_milestone\" : [15],\n",
    "                \"malicious_task_lr\" : 2e-5,\n",
    "                \"save_interal\" : None,\n",
    "                \"epoch_num\" : 30\n",
    "            }"
   ]
  },
  {
   "cell_type": "code",
   "execution_count": null,
   "id": "c8040697-d850-4260-891a-1f673ce377a6",
   "metadata": {},
   "outputs": [],
   "source": [
    "logger = get_logger(\"./log/S1/Cifar100_FK_Malicious_Model.log\",name=\"Cifar100_FK_Malicious_Model\")"
   ]
  },
  {
   "cell_type": "code",
   "execution_count": null,
   "id": "f6c25759-4e0f-4e42-a438-41d388b4029e",
   "metadata": {
    "scrolled": true,
    "tags": []
   },
   "outputs": [],
   "source": [
    "training_malicious_model_with_full_knowledge(dataset_name, client, target_class, no_target_Cifar100_train_loader, maintask_Cifar100_loader, Cifar100_train_loader, hyperparameter_dict, logger, \n",
    "                                                 save_path=\"./model/\", save_name=None, ifprint=True)"
   ]
  },
  {
   "cell_type": "markdown",
   "id": "5c218b85-19fe-45ac-833e-78a379a310e5",
   "metadata": {},
   "source": [
    "#### Cifar100 Semi Knowledge"
   ]
  },
  {
   "cell_type": "code",
   "execution_count": null,
   "id": "e56585f7-d7db-460f-990b-647c5fd9cbcb",
   "metadata": {},
   "outputs": [],
   "source": [
    "target_class = 0\n",
    "target_class_num = 30\n",
    "label_range = 100\n",
    "each_class_num = 400\n",
    "batch_size = 128\n",
    "dataset_name = \"Cifar100\""
   ]
  },
  {
   "cell_type": "code",
   "execution_count": null,
   "id": "1c516f67-7e5b-4ee4-a228-63fa6791efd1",
   "metadata": {},
   "outputs": [],
   "source": [
    "client = Client(Cifar100_model_generator,optim.SGD,{'lr':0.01})"
   ]
  },
  {
   "cell_type": "code",
   "execution_count": null,
   "id": "04f58502-1a76-4936-b4ac-5f705f4a6c94",
   "metadata": {},
   "outputs": [],
   "source": [
    "client.load_model(\"./model/Cifar100_Normal_Model.pth\")"
   ]
  },
  {
   "cell_type": "code",
   "execution_count": null,
   "id": "001d29ee-4ba5-49e5-a3db-47692f2e17c1",
   "metadata": {},
   "outputs": [],
   "source": [
    "only_target_Cifar100_dataset = sampling_only_target_class_dataset(Cifar100_test_dataset, target_class, target_class_num, label_range, dcopy=False, transform=None)\n",
    "only_target_Cifar100_train_loader = torch.utils.data.DataLoader(only_target_Cifar100_dataset,batch_size,shuffle=True)"
   ]
  },
  {
   "cell_type": "code",
   "execution_count": null,
   "id": "6cca2f46-2c8d-4275-8fae-a07b30141383",
   "metadata": {},
   "outputs": [],
   "source": [
    "label_list = random.sample(list(range(0,target_class))+list(range(target_class+1,label_range)),k=30)\n",
    "print(label_list)"
   ]
  },
  {
   "cell_type": "code",
   "execution_count": null,
   "id": "bc49dc48-7684-4c7c-80f0-d7c13785bf5c",
   "metadata": {},
   "outputs": [],
   "source": [
    "local_Cifar100_dataset = sampling_no_target_class_dataset_niid(Cifar100_train_dataset, target_class, label_list, label_range, each_class_num, dcopy=False, transform=None)\n",
    "local_Cifar100_train_loader = torch.utils.data.DataLoader(no_target_Cifar100_dataset,batch_size,shuffle=True)"
   ]
  },
  {
   "cell_type": "code",
   "execution_count": null,
   "id": "38e5844b-ea6e-4dbb-b2b9-cfb26a5298f8",
   "metadata": {},
   "outputs": [],
   "source": [
    "maintask_Cifar100_dataset = remove_target_class_dataset(Cifar100_train_dataset, target_class, dcopy=False, transform=None)\n",
    "maintask_Cifar100_loader = torch.utils.data.DataLoader(maintask_Cifar100_dataset,batch_size,shuffle=False)"
   ]
  },
  {
   "cell_type": "code",
   "execution_count": null,
   "id": "96f555c3-0f4c-45a0-8731-a780e54b83e9",
   "metadata": {},
   "outputs": [],
   "source": [
    "hyperparameter_dict = {\n",
    "                \"main_task_lr\" : 1e-3,\n",
    "                \"main_task_lr_decay\" : False,\n",
    "                \"malicious_task_lr\" : 2e-2,\n",
    "                \"save_interal\" : None,\n",
    "                \"epoch_num\" : 3\n",
    "            }"
   ]
  },
  {
   "cell_type": "code",
   "execution_count": null,
   "id": "f6140851-427b-4975-a963-86f29878dca0",
   "metadata": {},
   "outputs": [],
   "source": [
    "logger = get_logger(\"./log/S1/Cifar100_SK_Malicious_Model.log\",name=\"Cifar100_SK_Malicious_Model\")"
   ]
  },
  {
   "cell_type": "code",
   "execution_count": null,
   "id": "1823e762-fb55-4dbc-9e79-845ff40f5522",
   "metadata": {
    "scrolled": true,
    "tags": []
   },
   "outputs": [],
   "source": [
    "training_malicious_model_with_semi_knowledge(dataset_name, client, target_class, only_target_Cifar100_train_loader, local_Cifar100_train_loader, maintask_Cifar100_loader, Cifar100_train_loader, hyperparameter_dict, logger, \n",
    "                                                 save_path=\"./model/\", save_name=None, ifprint=True)"
   ]
  },
  {
   "cell_type": "markdown",
   "id": "15c54372-e16e-4df7-945f-cde160cefe02",
   "metadata": {},
   "source": [
    "#### Cifar100 No Knowledge"
   ]
  },
  {
   "cell_type": "code",
   "execution_count": null,
   "id": "f8e24672-dd87-4fd8-8e09-89f2139527e6",
   "metadata": {},
   "outputs": [],
   "source": [
    "target_class = 0\n",
    "label_range = 100\n",
    "inversion_data_size = 256\n",
    "each_class_num = 400\n",
    "batch_size = 128\n",
    "loader_size = 50\n",
    "dataset_name = \"Cifar100\""
   ]
  },
  {
   "cell_type": "code",
   "execution_count": null,
   "id": "f01ca9b6-306a-4cb8-b238-6705e524099f",
   "metadata": {},
   "outputs": [],
   "source": [
    "client = Client(Cifar100_model_generator,optim.SGD,{'lr':0.01})"
   ]
  },
  {
   "cell_type": "code",
   "execution_count": null,
   "id": "4d7bb7ec-21ca-407c-8568-6e3442b12d84",
   "metadata": {},
   "outputs": [],
   "source": [
    "client.load_model(\"./model/Cifar100_Normal_Model.pth\")"
   ]
  },
  {
   "cell_type": "code",
   "execution_count": null,
   "id": "17be3c14-1062-42f4-8282-39d775ab1886",
   "metadata": {},
   "outputs": [],
   "source": [
    "logger = get_logger(\"./log/S1/Cifar100_NK_MI.log\",name=\"Cifar100_NK_MI\")"
   ]
  },
  {
   "cell_type": "code",
   "execution_count": null,
   "id": "234fbd25-b26c-443e-9ba1-778064e284ff",
   "metadata": {},
   "outputs": [],
   "source": [
    "model = client.client_model\n",
    "\n",
    "history,inversion_data = deep_inversion(model,inversion_data_size,target_class,logger,save_name=\"Cifar100_MI_data_\"+str(target_class),\n",
    "                   epoch_num=5000,\n",
    "                   main_coeff=1e-1,\n",
    "                   l2_coeff=1e-5,\n",
    "                   tv_coeff=1e-3,\n",
    "                   bn_coeff=1,\n",
    "                   first_bn_weight=10,\n",
    "                   lr=0.25,\n",
    "                   image_size=32,\n",
    "                   save_path=\"./temp_data/\",\n",
    "                   ifprint=True,\n",
    "                   ifhistory=False)"
   ]
  },
  {
   "cell_type": "code",
   "execution_count": null,
   "id": "eecc1c24-565a-4327-a964-d1f865d1d9d4",
   "metadata": {},
   "outputs": [],
   "source": [
    "tensor_data = torch.load(\"./temp_data/Cifar100_MI_data_\"+str(target_class)+\".tensor\")\n",
    "only_inversion_target_Cifar100_train_loader =  tensor2loader(tensor_data,target_class,batch_size,loader_size)"
   ]
  },
  {
   "cell_type": "code",
   "execution_count": null,
   "id": "ab68728d-9fbd-4cf0-9bf5-4b4d9694848f",
   "metadata": {},
   "outputs": [],
   "source": [
    "label_list = random.sample(list(range(0,target_class))+list(range(target_class+1,label_range)),k=30)\n",
    "print(label_list)"
   ]
  },
  {
   "cell_type": "code",
   "execution_count": null,
   "id": "efcb4542-5403-4929-9305-d718b9230b22",
   "metadata": {},
   "outputs": [],
   "source": [
    "local_Cifar100_dataset = sampling_no_target_class_dataset_niid(Cifar100_train_dataset, target_class, label_list, label_range, each_class_num, dcopy=False, transform=None)\n",
    "local_Cifar100_train_loader = torch.utils.data.DataLoader(no_target_Cifar100_dataset,batch_size,shuffle=True)"
   ]
  },
  {
   "cell_type": "code",
   "execution_count": null,
   "id": "9fc2df99-59ae-42bd-ac01-fbbc7d050634",
   "metadata": {},
   "outputs": [],
   "source": [
    "maintask_Cifar100_dataset = remove_target_class_dataset(Cifar100_train_dataset, target_class, dcopy=False, transform=None)\n",
    "maintask_Cifar100_loader = torch.utils.data.DataLoader(maintask_Cifar100_dataset,batch_size,shuffle=False)"
   ]
  },
  {
   "cell_type": "code",
   "execution_count": null,
   "id": "64009db0-1147-46a6-8fec-82b32b8b6bb7",
   "metadata": {},
   "outputs": [],
   "source": [
    "hyperparameter_dict = {\n",
    "                \"main_task_lr\" : 1e-3,\n",
    "                \"main_task_lr_decay\" : False,\n",
    "                \"malicious_task_lr\" : 1e-3,\n",
    "                \"save_interal\" : None,\n",
    "                \"epoch_num\" : 2\n",
    "            }"
   ]
  },
  {
   "cell_type": "code",
   "execution_count": null,
   "id": "b31f6e79-4ce3-4e03-8465-8a778c2e9d85",
   "metadata": {},
   "outputs": [],
   "source": [
    "logger = get_logger(\"./log/S1/Cifar100_NK_Malicious_Model.log\",name=\"Cifar100_NK_Malicious_Model\")"
   ]
  },
  {
   "cell_type": "code",
   "execution_count": null,
   "id": "ea5a73a7-50d8-4a6a-b8ed-f1aa20a82f80",
   "metadata": {},
   "outputs": [],
   "source": [
    "training_malicious_model_with_no_knowledge(dataset_name, client, target_class, only_inversion_target_Cifar100_train_loader, local_Cifar100_train_loader, maintask_Cifar100_loader, Cifar100_train_loader,                                                                    \n",
    "                                           hyperparameter_dict, logger, save_path=\"./model/\", save_name=None, ifprint=True)"
   ]
  },
  {
   "cell_type": "markdown",
   "id": "f6862315-e4c7-45c7-99e6-7e59f27a605a",
   "metadata": {},
   "source": [
    "### TinyImageNet"
   ]
  },
  {
   "cell_type": "markdown",
   "id": "fa4a12d1-0838-4df5-93b5-de3ace815c56",
   "metadata": {
    "tags": []
   },
   "source": [
    "#### TinyImageNet Federated Learning"
   ]
  },
  {
   "cell_type": "code",
   "execution_count": null,
   "id": "00ce151d-347e-4e08-a374-59b4c26b7ccc",
   "metadata": {},
   "outputs": [],
   "source": [
    "lr = 1e-2\n",
    "client_num = 40\n",
    "epoch_num = 30\n",
    "batch_size = 128\n",
    "each_dataset_size = 10000"
   ]
  },
  {
   "cell_type": "code",
   "execution_count": null,
   "id": "300bd784-67b9-4445-845f-d3f3c1115983",
   "metadata": {},
   "outputs": [],
   "source": [
    "server = Server(TinyImageNet_model_generator,optim.SGD,{'lr':lr})\n",
    "clients = [Client(TinyImageNet_model_generator,optim.SGD,{'lr':lr}) for _ in range(client_num)]"
   ]
  },
  {
   "cell_type": "code",
   "execution_count": null,
   "id": "4ebaa376-03e1-4e8d-b454-c691ccc7d70f",
   "metadata": {},
   "outputs": [],
   "source": [
    "TinyImageNet_train_datasets = sampling_datasets_iid(TinyImageNet_train_dataset,client_num,each_dataset_size)\n",
    "train_loaders = [torch.utils.data.DataLoader(TinyImageNet_train_dataset,batch_size,shuffle=True) for train_dataset in TinyImageNet_train_datasets]"
   ]
  },
  {
   "cell_type": "code",
   "execution_count": null,
   "id": "c0426ff7-a751-4492-ae24-edaf2f5a6fd2",
   "metadata": {
    "scrolled": true,
    "tags": []
   },
   "outputs": [],
   "source": [
    "try:\n",
    "    for t in range(epoch_num):\n",
    "        train_acc,train_loss,test_acc,test_loss,time_elapsed = fedSGD_epoch(server,clients,train_loaders,TinyImageNet_test_loader)\n",
    "\n",
    "        print(\"-------------Epoch: %d--------------\" % t)\n",
    "        print(\"Train_Acc: {:.6f} ,Test_Acc: {:.6f}\".format(train_acc, test_acc))\n",
    "        print(\"Epoch complete in {:.0f}m {:.0f}s\".format(time_elapsed // 60, time_elapsed % 60))\n",
    "\n",
    "except KeyboardInterrupt:\n",
    "    print(\"Stopping\")"
   ]
  },
  {
   "cell_type": "code",
   "execution_count": null,
   "id": "f6a77e40-98ea-4842-b834-4eb5335ad401",
   "metadata": {},
   "outputs": [],
   "source": [
    "server.save_model(\"./model/TinyImageNet_Normal_Model.pth\")"
   ]
  },
  {
   "cell_type": "code",
   "execution_count": null,
   "id": "ae9c13a3-40d6-4d36-a837-13a2dc0af959",
   "metadata": {},
   "outputs": [],
   "source": [
    "server.load_model(\"./model/TinyImageNet_Normal_Model.pth\")"
   ]
  },
  {
   "cell_type": "markdown",
   "id": "dbc78adb-a567-4af6-94fe-0e2f749be00b",
   "metadata": {},
   "source": [
    "#### TinyImageNet Full Knowledge "
   ]
  },
  {
   "cell_type": "code",
   "execution_count": null,
   "id": "f8533b8a-6aa6-45f2-85f5-23b0e58df91e",
   "metadata": {},
   "outputs": [],
   "source": [
    "target_class = 0\n",
    "dataset_size = 300000\n",
    "batch_size = 128\n",
    "dataset_name = \"TinyImageNet\""
   ]
  },
  {
   "cell_type": "code",
   "execution_count": null,
   "id": "49574adf-1466-4ba8-9cd4-49dcee063c6c",
   "metadata": {},
   "outputs": [],
   "source": [
    "client = Client(TinyImageNet_model_generator,optim.SGD,{'lr':0.01})"
   ]
  },
  {
   "cell_type": "code",
   "execution_count": null,
   "id": "2efd42ae-a13d-4870-98b4-4884386b9e14",
   "metadata": {},
   "outputs": [],
   "source": [
    "no_target_TinyImageNet_dataset = sampling_no_target_class_dataset(TinyImageNet_train_dataset,target_class,dataset_size,dcopy=False)\n",
    "no_target_TinyImageNet_train_loader = torch.utils.data.DataLoader(no_target_TinyImageNet_dataset,batch_size,shuffle=True)"
   ]
  },
  {
   "cell_type": "code",
   "execution_count": null,
   "id": "cf3331b6-b451-4af0-a63c-bf13422eaa73",
   "metadata": {},
   "outputs": [],
   "source": [
    "maintask_TinyImageNet_dataset = remove_target_class_dataset(TinyImageNet_train_dataset, target_class, dcopy=False, transform=None)\n",
    "maintask_TinyImageNet_loader = torch.utils.data.DataLoader(maintask_TinyImageNet_dataset,batch_size,shuffle=False)"
   ]
  },
  {
   "cell_type": "code",
   "execution_count": null,
   "id": "03ea5da0-f954-412f-b090-dd4f9b26ad56",
   "metadata": {},
   "outputs": [],
   "source": [
    "hyperparameter_dict = {\n",
    "                \"main_task_lr\" : 1e-2,\n",
    "                \"main_task_lr_decay\" : True,\n",
    "                \"main_task_lr_decay_gamma\" : 0.1,\n",
    "                \"main_task_lr_decay_milestone\" : [15],\n",
    "                \"malicious_task_lr\" : 4e-5,\n",
    "                \"save_interal\" : None,\n",
    "                \"epoch_num\" : 30\n",
    "            }"
   ]
  },
  {
   "cell_type": "code",
   "execution_count": null,
   "id": "83606b74-cc29-422a-99b0-f7a83f3b1e21",
   "metadata": {},
   "outputs": [],
   "source": [
    "logger = get_logger(\"./log/S1/TinyImageNet_FK_Malicious_Model.log\",name=\"TinyImageNet_FK_Malicious_Model\")"
   ]
  },
  {
   "cell_type": "code",
   "execution_count": null,
   "id": "fdfd7ef2-3af5-40ed-aab4-7a2a062652b0",
   "metadata": {
    "scrolled": true,
    "tags": []
   },
   "outputs": [],
   "source": [
    "training_malicious_model_with_full_knowledge(dataset_name, client, target_class, no_target_TinyImageNet_train_loader, maintask_TinyImageNet_loader, TinyImageNet_train_loader, hyperparameter_dict, logger, \n",
    "                                                 save_path=\"./model/\", save_name=None, ifprint=True)"
   ]
  },
  {
   "cell_type": "markdown",
   "id": "83f07c10-0f89-4f68-9a74-580a72308e1b",
   "metadata": {},
   "source": [
    "#### TinyImageNet Semi Knowledge"
   ]
  },
  {
   "cell_type": "code",
   "execution_count": null,
   "id": "0a3a6a9b-faca-4b09-88c7-75ac5f1ec619",
   "metadata": {},
   "outputs": [],
   "source": [
    "target_class = 0\n",
    "target_class_num = 30\n",
    "label_range = 200\n",
    "each_class_num = 400\n",
    "batch_size = 128\n",
    "dataset_name = \"TinyImageNet\""
   ]
  },
  {
   "cell_type": "code",
   "execution_count": null,
   "id": "228feda1-351f-4410-81af-41a387f0aa4a",
   "metadata": {},
   "outputs": [],
   "source": [
    "client = Client(TinyImageNet_model_generator,optim.SGD,{'lr':0.01})"
   ]
  },
  {
   "cell_type": "code",
   "execution_count": null,
   "id": "3b494cbd-650c-4eb4-8cf3-8c6a01d8a79b",
   "metadata": {},
   "outputs": [],
   "source": [
    "client.load_model(\"./model/TinyImageNet_Normal_Model.pth\")"
   ]
  },
  {
   "cell_type": "code",
   "execution_count": null,
   "id": "ef3a1d8a-bfee-4f7d-a540-45c8192fa2a9",
   "metadata": {},
   "outputs": [],
   "source": [
    "only_target_TinyImageNet_dataset = sampling_only_target_class_dataset(TinyImageNet_test_dataset, target_class, target_class_num, label_range, dcopy=False, transform=None)\n",
    "only_target_TinyImageNet_train_loader = torch.utils.data.DataLoader(only_target_TinyImageNet_dataset,batch_size,shuffle=True)"
   ]
  },
  {
   "cell_type": "code",
   "execution_count": null,
   "id": "004ffa41-c885-4a92-8596-a0d6e2f36344",
   "metadata": {},
   "outputs": [],
   "source": [
    "label_list = random.sample(list(range(0,target_class))+list(range(target_class+1,label_range)),k=30)\n",
    "print(label_list)"
   ]
  },
  {
   "cell_type": "code",
   "execution_count": null,
   "id": "e8e84587-f9ed-4735-b1d5-9ab1b66dc794",
   "metadata": {},
   "outputs": [],
   "source": [
    "local_TinyImageNet_dataset = sampling_no_target_class_dataset_niid(TinyImageNet_train_dataset, target_class, label_list, label_range, each_class_num, dcopy=False, transform=None)\n",
    "local_TinyImageNet_train_loader = torch.utils.data.DataLoader(no_target_TinyImageNet_dataset,batch_size,shuffle=True)"
   ]
  },
  {
   "cell_type": "code",
   "execution_count": null,
   "id": "4778e99b-428f-4aae-9655-071ab5a2fe1c",
   "metadata": {},
   "outputs": [],
   "source": [
    "maintask_TinyImageNet_dataset = remove_target_class_dataset(TinyImageNet_train_dataset, target_class, dcopy=False, transform=None)\n",
    "maintask_TinyImageNet_loader = torch.utils.data.DataLoader(maintask_TinyImageNet_dataset,batch_size,shuffle=False)"
   ]
  },
  {
   "cell_type": "code",
   "execution_count": null,
   "id": "0c9cec61-9c89-42e0-9dbf-a4741a4d3746",
   "metadata": {},
   "outputs": [],
   "source": [
    "hyperparameter_dict = {\n",
    "                \"main_task_lr\" : 1e-3,\n",
    "                \"main_task_lr_decay\" : False,\n",
    "                \"malicious_task_lr\" : 3e-2,\n",
    "                \"save_interal\" : None,\n",
    "                \"epoch_num\" : 3\n",
    "            }"
   ]
  },
  {
   "cell_type": "code",
   "execution_count": null,
   "id": "a643255b-25dd-46d2-9208-ed7aa6920eb8",
   "metadata": {},
   "outputs": [],
   "source": [
    "logger = get_logger(\"./log/S1/TinyImageNet_SK_Malicious_Model.log\",name=\"TinyImageNet_SK_Malicious_Model\")"
   ]
  },
  {
   "cell_type": "code",
   "execution_count": null,
   "id": "00d9bca4-5ae1-466a-b570-9267e4fe3e1b",
   "metadata": {
    "scrolled": true,
    "tags": []
   },
   "outputs": [],
   "source": [
    "training_malicious_model_with_semi_knowledge(dataset_name, client, target_class, only_target_TinyImageNet_train_loader, local_TinyImageNet_train_loader, maintask_TinyImageNet_loader, TinyImageNet_train_loader, hyperparameter_dict, logger, \n",
    "                                                 save_path=\"./model/\", save_name=None, ifprint=True)"
   ]
  },
  {
   "cell_type": "markdown",
   "id": "f68000e9-3505-4aff-a681-2497883e35cd",
   "metadata": {},
   "source": [
    "#### TinyImageNet No Knowledge"
   ]
  },
  {
   "cell_type": "code",
   "execution_count": null,
   "id": "cc1438a8-6528-4d5e-afd7-40a88070f2ea",
   "metadata": {},
   "outputs": [],
   "source": [
    "target_class = 0\n",
    "label_range = 200\n",
    "inversion_data_size = 256\n",
    "each_class_num = 400\n",
    "batch_size = 128\n",
    "loader_size = 50\n",
    "dataset_name = \"TinyImageNet\""
   ]
  },
  {
   "cell_type": "code",
   "execution_count": null,
   "id": "22961edc-8fe6-4b99-89e1-8b0b57c73f47",
   "metadata": {},
   "outputs": [],
   "source": [
    "client = Client(TinyImageNet_model_generator,optim.SGD,{'lr':0.01})"
   ]
  },
  {
   "cell_type": "code",
   "execution_count": null,
   "id": "33103531-baf9-483e-9177-b1f412ae71b9",
   "metadata": {},
   "outputs": [],
   "source": [
    "client.load_model(\"./model/TinyImageNet_Normal_Model.pth\")"
   ]
  },
  {
   "cell_type": "code",
   "execution_count": null,
   "id": "649d3803-a2a4-46bc-aa15-ad309341b905",
   "metadata": {},
   "outputs": [],
   "source": [
    "logger = get_logger(\"./log/S1/TinyImageNet_NK_MI.log\",name=\"TinyImageNet_NK_MI\")"
   ]
  },
  {
   "cell_type": "code",
   "execution_count": null,
   "id": "879ef698-b36f-4ade-a78e-6774f9ff8b5d",
   "metadata": {
    "scrolled": true,
    "tags": []
   },
   "outputs": [],
   "source": [
    "model = client.client_model\n",
    "\n",
    "history,inversion_data = deep_inversion(model,inversion_data_size,target_class,logger,save_name=\"TinyImageNet_MI_data_\"+str(target_class),\n",
    "                   epoch_num=5000,\n",
    "                   main_coeff=1e-1,\n",
    "                   l2_coeff=1e-5,\n",
    "                   tv_coeff=1e-3,\n",
    "                   bn_coeff=1,\n",
    "                   first_bn_weight=10,\n",
    "                   lr=0.25,\n",
    "                   image_size=64,\n",
    "                   save_path=\"./temp_data/\",\n",
    "                   ifprint=True,\n",
    "                   ifhistory=False)"
   ]
  },
  {
   "cell_type": "code",
   "execution_count": null,
   "id": "197f7753-46d3-42db-84d2-406ce91e1883",
   "metadata": {},
   "outputs": [],
   "source": [
    "tensor_data = torch.load(\"./temp_data/TinyImageNet_MI_data_\"+str(target_class)+\".tensor\")\n",
    "only_inversion_target_TinyImageNet_train_loader =  tensor2loader(tensor_data,target_class,batch_size,loader_size)"
   ]
  },
  {
   "cell_type": "code",
   "execution_count": null,
   "id": "ed558a33-6e7c-42ad-8de0-89da20e8df7f",
   "metadata": {},
   "outputs": [],
   "source": [
    "label_list = random.sample(list(range(0,target_class))+list(range(target_class+1,label_range)),k=60)\n",
    "print(label_list)"
   ]
  },
  {
   "cell_type": "code",
   "execution_count": null,
   "id": "22627de0-57f2-47f4-8443-5a88729c886d",
   "metadata": {},
   "outputs": [],
   "source": [
    "local_TinyImageNet_dataset = sampling_no_target_class_dataset_niid(TinyImageNet_train_dataset, target_class, label_list, label_range, each_class_num, dcopy=False, transform=None)\n",
    "local_TinyImageNet_train_loader = torch.utils.data.DataLoader(no_target_TinyImageNet_dataset,batch_size,shuffle=True)"
   ]
  },
  {
   "cell_type": "code",
   "execution_count": null,
   "id": "48995f36-4ff4-4d90-916a-2d6e98a959eb",
   "metadata": {},
   "outputs": [],
   "source": [
    "maintask_TinyImageNet_dataset = remove_target_class_dataset(TinyImageNet_train_dataset, target_class, dcopy=False, transform=None)\n",
    "maintask_TinyImageNet_loader = torch.utils.data.DataLoader(maintask_TinyImageNet_dataset,batch_size,shuffle=False)"
   ]
  },
  {
   "cell_type": "code",
   "execution_count": null,
   "id": "b8d08cd6-7e02-42e8-8c2a-e44466b2d355",
   "metadata": {},
   "outputs": [],
   "source": [
    "hyperparameter_dict = {\n",
    "                \"main_task_lr\" : 1e-5,\n",
    "                \"main_task_lr_decay\" : False,\n",
    "                \"malicious_task_lr\" : 1e-3,\n",
    "                \"save_interal\" : None,\n",
    "                \"epoch_num\" : 2\n",
    "            }"
   ]
  },
  {
   "cell_type": "code",
   "execution_count": null,
   "id": "ed07e24d-5985-4918-9461-bd27b9f49de8",
   "metadata": {},
   "outputs": [],
   "source": [
    "logger = get_logger(\"./log/S1/TinyImageNet_NK_Malicious_Model.log\",name=\"TinyImageNet_NK_Malicious_Model\")"
   ]
  },
  {
   "cell_type": "code",
   "execution_count": null,
   "id": "2112fee9-4453-48ae-be49-06bdc8ae92dd",
   "metadata": {
    "scrolled": true,
    "tags": []
   },
   "outputs": [],
   "source": [
    "training_malicious_model_with_no_knowledge(dataset_name, client, target_class, only_inversion_target_TinyImageNet_train_loader, local_TinyImageNet_train_loader, maintask_TinyImageNet_loader, TinyImageNet_train_loader,                                                                    \n",
    "                                           hyperparameter_dict, logger, save_path=\"./model/\", save_name=None, ifprint=True)"
   ]
  },
  {
   "cell_type": "markdown",
   "id": "772148cf-a5eb-4d3e-846a-b45c46ab6ffd",
   "metadata": {},
   "source": [
    "### CalTech256"
   ]
  },
  {
   "cell_type": "markdown",
   "id": "a4c2f70c-e024-4f45-9875-560c7c64b0ff",
   "metadata": {
    "tags": []
   },
   "source": [
    "#### CalTech256 Federated Learning"
   ]
  },
  {
   "cell_type": "code",
   "execution_count": null,
   "id": "51b2f317-2aa9-4f47-b249-e9e7004a2bf6",
   "metadata": {},
   "outputs": [],
   "source": [
    "lr = 1e-2\n",
    "client_num = 10\n",
    "epoch_num = 30\n",
    "batch_size = 16\n",
    "each_dataset_size = 30000"
   ]
  },
  {
   "cell_type": "code",
   "execution_count": null,
   "id": "dd83665a-58dc-4947-a5bc-27d80d5d52a4",
   "metadata": {},
   "outputs": [],
   "source": [
    "server = Server(CalTech256_model_generator,optim.SGD,{'lr':lr})\n",
    "clients = [Client(CalTech256_model_generator,optim.SGD,{'lr':lr}) for _ in range(client_num)]"
   ]
  },
  {
   "cell_type": "code",
   "execution_count": null,
   "id": "62369d47-917a-4c8d-9f94-4a1e6ab3dd72",
   "metadata": {},
   "outputs": [],
   "source": [
    "CalTech256_train_datasets = sampling_datasets_iid(CalTech256_train_dataset,client_num,each_dataset_size)\n",
    "train_loaders = [torch.utils.data.DataLoader(CalTech256_train_dataset,batch_size,shuffle=True) for train_dataset in CalTech256_train_datasets]"
   ]
  },
  {
   "cell_type": "code",
   "execution_count": null,
   "id": "ffce4846-54bd-48f8-a1a1-4c26f76f819d",
   "metadata": {
    "scrolled": true,
    "tags": []
   },
   "outputs": [],
   "source": [
    "try:\n",
    "    for t in range(epoch_num):\n",
    "        train_acc,train_loss,test_acc,test_loss,time_elapsed = fedSGD_epoch(server,clients,train_loaders,CalTech256_test_loader)\n",
    "\n",
    "        print(\"-------------Epoch: %d--------------\" % t)\n",
    "        print(\"Train_Acc: {:.6f} ,Test_Acc: {:.6f}\".format(train_acc, test_acc))\n",
    "        print(\"Epoch complete in {:.0f}m {:.0f}s\".format(time_elapsed // 60, time_elapsed % 60))\n",
    "\n",
    "except KeyboardInterrupt:\n",
    "    print(\"Stopping\")"
   ]
  },
  {
   "cell_type": "code",
   "execution_count": null,
   "id": "8d4b83af-599d-4519-aa22-fafb7bd0cd8e",
   "metadata": {},
   "outputs": [],
   "source": [
    "server.save_model(\"./model/CalTech256_Normal_Model.pth\")"
   ]
  },
  {
   "cell_type": "code",
   "execution_count": null,
   "id": "e18800f9-b81b-4bc7-a281-242e08562394",
   "metadata": {},
   "outputs": [],
   "source": [
    "server.load_model(\"./model/CalTech256_Normal_Model.pth\")"
   ]
  },
  {
   "cell_type": "markdown",
   "id": "1e63e731-b048-4670-b8e8-63956554b7bd",
   "metadata": {},
   "source": [
    "#### CalTech256 Full Knowledge "
   ]
  },
  {
   "cell_type": "code",
   "execution_count": null,
   "id": "f2666529-cc52-4492-bfe0-231d1262727f",
   "metadata": {},
   "outputs": [],
   "source": [
    "target_class = 48\n",
    "dataset_size = 50000\n",
    "batch_size = 16\n",
    "dataset_name = \"CalTech256\""
   ]
  },
  {
   "cell_type": "code",
   "execution_count": null,
   "id": "50388198-9856-4220-9487-be18738b836c",
   "metadata": {},
   "outputs": [],
   "source": [
    "client = Client(CalTech256_model_generator,optim.SGD,{'lr':0.01})"
   ]
  },
  {
   "cell_type": "code",
   "execution_count": null,
   "id": "9f309963-1352-4a32-af84-ad6f5d9ec2d2",
   "metadata": {},
   "outputs": [],
   "source": [
    "no_target_CalTech256_dataset = sampling_no_target_class_dataset(CalTech256_train_dataset,target_class,dataset_size,dcopy=False)\n",
    "no_target_CalTech256_train_loader = torch.utils.data.DataLoader(no_target_CalTech256_dataset,batch_size,shuffle=True)"
   ]
  },
  {
   "cell_type": "code",
   "execution_count": null,
   "id": "cea34bbf-a519-46ba-8362-97d84ac8744f",
   "metadata": {},
   "outputs": [],
   "source": [
    "maintask_CalTech256_dataset = remove_target_class_dataset(CalTech256_train_dataset, target_class, dcopy=False, transform=None)\n",
    "maintask_CalTech256_loader = torch.utils.data.DataLoader(maintask_CalTech256_dataset,batch_size,shuffle=False)"
   ]
  },
  {
   "cell_type": "code",
   "execution_count": null,
   "id": "8cec86cf-9046-4a39-9282-8047e8477c8c",
   "metadata": {},
   "outputs": [],
   "source": [
    "hyperparameter_dict = {\n",
    "                \"main_task_lr\" : 1e-2,\n",
    "                \"main_task_lr_decay\" : True,\n",
    "                \"main_task_lr_decay_gamma\" : 0.1,\n",
    "                \"main_task_lr_decay_milestone\" : [15],\n",
    "                \"malicious_task_lr\" : 1e-5,\n",
    "                \"save_interal\" : None,\n",
    "                \"epoch_num\" : 30\n",
    "            }"
   ]
  },
  {
   "cell_type": "code",
   "execution_count": null,
   "id": "9527e3bc-da56-4cad-aec5-129ea9b0cbd0",
   "metadata": {},
   "outputs": [],
   "source": [
    "logger = get_logger(\"./log/S1/CalTech256_FK_Malicious_Model.log\",name=\"CalTech256_FK_Malicious_Model\")"
   ]
  },
  {
   "cell_type": "code",
   "execution_count": null,
   "id": "c335af56-9400-47b6-81db-99f3bbee585b",
   "metadata": {
    "scrolled": true,
    "tags": []
   },
   "outputs": [],
   "source": [
    "training_malicious_model_with_full_knowledge(dataset_name, client, target_class, no_target_CalTech256_train_loader, maintask_CalTech256_loader, CalTech256_train_loader, hyperparameter_dict, logger, \n",
    "                                                 save_path=\"./model/\", save_name=None, ifprint=True)"
   ]
  },
  {
   "cell_type": "markdown",
   "id": "424d37b3-5cd8-4eb2-8c76-a93c6039f15c",
   "metadata": {},
   "source": [
    "#### CalTech256 Semi Knowledge"
   ]
  },
  {
   "cell_type": "code",
   "execution_count": null,
   "id": "c1d6d181-d6f8-4355-973c-045f5c10dda6",
   "metadata": {},
   "outputs": [],
   "source": [
    "target_class = 48\n",
    "target_class_num = 30\n",
    "label_range = 256\n",
    "each_class_num = 400\n",
    "batch_size = 16\n",
    "dataset_name = \"CalTech256\""
   ]
  },
  {
   "cell_type": "code",
   "execution_count": null,
   "id": "bf637f59-5701-4c53-94fe-f2800ddee033",
   "metadata": {},
   "outputs": [],
   "source": [
    "client = Client(CalTech256_model_generator,optim.SGD,{'lr':0.01})"
   ]
  },
  {
   "cell_type": "code",
   "execution_count": null,
   "id": "a3cabd3a-f39d-4a25-aa5a-ab0ffb9c0735",
   "metadata": {},
   "outputs": [],
   "source": [
    "client.load_model(\"./model/CalTech256_Normal_Model.pth\")"
   ]
  },
  {
   "cell_type": "code",
   "execution_count": null,
   "id": "858cd114-5922-41f5-8bbc-f2691e289572",
   "metadata": {},
   "outputs": [],
   "source": [
    "only_target_CalTech256_dataset = sampling_only_target_class_dataset(CalTech256_test_dataset, target_class, target_class_num, label_range, dcopy=False, transform=None)\n",
    "only_target_CalTech256_train_loader = torch.utils.data.DataLoader(only_target_CalTech256_dataset,batch_size,shuffle=True)"
   ]
  },
  {
   "cell_type": "code",
   "execution_count": null,
   "id": "5025b522-b05a-48c3-8c5a-9b53b7346113",
   "metadata": {},
   "outputs": [],
   "source": [
    "label_list = random.sample(list(range(0,target_class))+list(range(target_class+1,label_range)),k=30)\n",
    "print(label_list)"
   ]
  },
  {
   "cell_type": "code",
   "execution_count": null,
   "id": "87bfecaf-f87c-474f-86af-5559d6fd21a5",
   "metadata": {},
   "outputs": [],
   "source": [
    "local_CalTech256_dataset = sampling_no_target_class_dataset_niid(CalTech256_train_dataset, target_class, label_list, label_range, each_class_num, dcopy=False, transform=None)\n",
    "local_CalTech256_train_loader = torch.utils.data.DataLoader(no_target_CalTech256_dataset,batch_size,shuffle=True)"
   ]
  },
  {
   "cell_type": "code",
   "execution_count": null,
   "id": "c69f6cd0-87c8-4c90-a0f5-70c4d94d2d86",
   "metadata": {},
   "outputs": [],
   "source": [
    "maintask_CalTech256_dataset = remove_target_class_dataset(CalTech256_train_dataset, target_class, dcopy=False, transform=None)\n",
    "maintask_CalTech256_loader = torch.utils.data.DataLoader(maintask_CalTech256_dataset,batch_size,shuffle=False)"
   ]
  },
  {
   "cell_type": "code",
   "execution_count": null,
   "id": "5ae47a9f-6a9d-48ea-9bf3-bdaab7f25f9f",
   "metadata": {},
   "outputs": [],
   "source": [
    "hyperparameter_dict = {\n",
    "                \"main_task_lr\" : 1e-4,\n",
    "                \"main_task_lr_decay\" : False,\n",
    "                \"malicious_task_lr\" : 5e-3,\n",
    "                \"save_interal\" : None,\n",
    "                \"epoch_num\" : 3\n",
    "            }"
   ]
  },
  {
   "cell_type": "code",
   "execution_count": null,
   "id": "7373c112-e3d8-4a7a-b0e1-651491e90282",
   "metadata": {},
   "outputs": [],
   "source": [
    "logger = get_logger(\"./log/S1/CalTech256_SK_Malicious_Model.log\",name=\"CalTech256_SK_Malicious_Model\")"
   ]
  },
  {
   "cell_type": "code",
   "execution_count": null,
   "id": "dd9a63d3-61d4-4077-b872-d3cbaeda54e4",
   "metadata": {
    "scrolled": true,
    "tags": []
   },
   "outputs": [],
   "source": [
    "training_malicious_model_with_semi_knowledge(dataset_name, client, target_class, only_target_CalTech256_train_loader, local_CalTech256_train_loader, maintask_CalTech256_loader, CalTech256_train_loader, hyperparameter_dict, logger, \n",
    "                                                 save_path=\"./model/\", save_name=None, ifprint=True)"
   ]
  },
  {
   "cell_type": "markdown",
   "id": "531641fb-3723-481b-abca-191b85cc7611",
   "metadata": {},
   "source": [
    "#### CalTech256 No Knowledge"
   ]
  },
  {
   "cell_type": "code",
   "execution_count": null,
   "id": "636d8d2a-38a7-479a-b013-ea11b43668ff",
   "metadata": {},
   "outputs": [],
   "source": [
    "target_class = 48\n",
    "label_range = 256\n",
    "inversion_data_size = 256\n",
    "each_class_num = 400\n",
    "batch_size = 16\n",
    "loader_size = 50\n",
    "dataset_name = \"CalTech256\""
   ]
  },
  {
   "cell_type": "code",
   "execution_count": null,
   "id": "60628a43-0cfd-479e-a905-f0a6a78efaf0",
   "metadata": {},
   "outputs": [],
   "source": [
    "client = Client(CalTech256_model_generator,optim.SGD,{'lr':0.01})"
   ]
  },
  {
   "cell_type": "code",
   "execution_count": null,
   "id": "f5a78822-5da9-4805-8aef-7b4f53ff081a",
   "metadata": {},
   "outputs": [],
   "source": [
    "client.load_model(\"./model/CalTech256_Normal_Model.pth\")"
   ]
  },
  {
   "cell_type": "code",
   "execution_count": null,
   "id": "fc80f49d-6bd3-465b-93da-89310ea3706f",
   "metadata": {},
   "outputs": [],
   "source": [
    "logger = get_logger(\"./log/S1/CalTech256_NK_MI.log\",name=\"CalTech256_NK_MI\")"
   ]
  },
  {
   "cell_type": "code",
   "execution_count": null,
   "id": "0cf05efd-11d7-423e-96ab-329ab62d2fd7",
   "metadata": {},
   "outputs": [],
   "source": [
    "model = client.client_model\n",
    "\n",
    "history,inversion_data = deep_inversion(model,inversion_data_size,target_class,logger,save_name=\"CalTech256_MI_data_\"+str(target_class),\n",
    "                   epoch_num=5000,\n",
    "                   main_coeff=1e-1,\n",
    "                   l2_coeff=1e-5,\n",
    "                   tv_coeff=1e-3,\n",
    "                   bn_coeff=1,\n",
    "                   first_bn_weight=10,\n",
    "                   lr=0.25,\n",
    "                   image_size=112,\n",
    "                   save_path=\"./temp_data/\",\n",
    "                   ifprint=True,\n",
    "                   ifhistory=False)"
   ]
  },
  {
   "cell_type": "code",
   "execution_count": null,
   "id": "d36e5711-d8e8-4238-bc80-2d0887456af3",
   "metadata": {},
   "outputs": [],
   "source": [
    "tensor_data = torch.load(\"./temp_data/CalTech256_MI_data_\"+str(target_class)+\".tensor\")\n",
    "only_inversion_target_CalTech256_train_loader =  tensor2loader(tensor_data,target_class,batch_size,loader_size)"
   ]
  },
  {
   "cell_type": "code",
   "execution_count": null,
   "id": "916d6c9e-d826-40b4-a588-310270e3203c",
   "metadata": {},
   "outputs": [],
   "source": [
    "label_list = random.sample(list(range(0,target_class))+list(range(target_class+1,label_range)),k=30)\n",
    "print(label_list)"
   ]
  },
  {
   "cell_type": "code",
   "execution_count": null,
   "id": "19ab44a8-31e0-44b3-a4e5-c4639552ed74",
   "metadata": {},
   "outputs": [],
   "source": [
    "local_CalTech256_dataset = sampling_no_target_class_dataset_niid(CalTech256_train_dataset, target_class, label_list, label_range, each_class_num, dcopy=False, transform=None)\n",
    "local_CalTech256_train_loader = torch.utils.data.DataLoader(no_target_CalTech256_dataset,batch_size,shuffle=True)"
   ]
  },
  {
   "cell_type": "code",
   "execution_count": null,
   "id": "334787cd-a3f3-42f1-9d20-1eceed6dd3ca",
   "metadata": {},
   "outputs": [],
   "source": [
    "maintask_CalTech256_dataset = remove_target_class_dataset(CalTech256_train_dataset, target_class, dcopy=False, transform=None)\n",
    "maintask_CalTech256_loader = torch.utils.data.DataLoader(maintask_CalTech256_dataset,batch_size,shuffle=False)"
   ]
  },
  {
   "cell_type": "code",
   "execution_count": null,
   "id": "729af0c7-2018-47b9-a789-7fa04659fdb1",
   "metadata": {},
   "outputs": [],
   "source": [
    "hyperparameter_dict = {\n",
    "                \"main_task_lr\" : 1e-3,\n",
    "                \"main_task_lr_decay\" : False,\n",
    "                \"malicious_task_lr\" : 1e-3,\n",
    "                \"save_interal\" : None,\n",
    "                \"epoch_num\" : 2\n",
    "            }"
   ]
  },
  {
   "cell_type": "code",
   "execution_count": null,
   "id": "ae42e016-4fda-4503-b4a9-314b0842c0e3",
   "metadata": {},
   "outputs": [],
   "source": [
    "logger = get_logger(\"./log/S1/CalTech256_NK_Malicious_Model.log\",name=\"CalTech256_NK_Malicious_Model\")"
   ]
  },
  {
   "cell_type": "code",
   "execution_count": null,
   "id": "0b15e3be-4c5f-46b1-ab53-f81cff1f03a6",
   "metadata": {},
   "outputs": [],
   "source": [
    "training_malicious_model_with_no_knowledge(dataset_name, client, target_class, only_inversion_target_CalTech256_train_loader, local_CalTech256_train_loader, maintask_CalTech256_loader, CalTech256_train_loader,                                                                    \n",
    "                                           hyperparameter_dict, logger, save_path=\"./model/\", save_name=None, ifprint=True)"
   ]
  },
  {
   "cell_type": "code",
   "execution_count": null,
   "id": "907aa372-78aa-4a62-8c7c-33be9aa712ed",
   "metadata": {},
   "outputs": [],
   "source": []
  }
 ],
 "metadata": {
  "kernelspec": {
   "display_name": "Python 3 (ipykernel)",
   "language": "python",
   "name": "python3"
  },
  "language_info": {
   "codemirror_mode": {
    "name": "ipython",
    "version": 3
   },
   "file_extension": ".py",
   "mimetype": "text/x-python",
   "name": "python",
   "nbconvert_exporter": "python",
   "pygments_lexer": "ipython3",
   "version": "3.8.15"
  }
 },
 "nbformat": 4,
 "nbformat_minor": 5
}
