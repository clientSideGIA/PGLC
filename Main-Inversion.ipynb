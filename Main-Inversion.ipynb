{
 "cells": [
  {
   "cell_type": "markdown",
   "id": "77a3c984-c27c-4469-a63a-17f16a7ff3f1",
   "metadata": {},
   "source": [
    "# CGI - Step 3: Inverting the targeted gradient"
   ]
  },
  {
   "cell_type": "code",
   "execution_count": null,
   "id": "fe92ec56-be1f-49a5-85a6-db9eadb5dccd",
   "metadata": {},
   "outputs": [],
   "source": [
    "%load_ext autoreload\n",
    "%autoreload 2"
   ]
  },
  {
   "cell_type": "markdown",
   "id": "27884cd0-5e85-4767-925c-ca055770bcd1",
   "metadata": {},
   "source": [
    "## Lib"
   ]
  },
  {
   "cell_type": "code",
   "execution_count": null,
   "id": "14a943fd-2fac-4562-93c6-99a38987ba35",
   "metadata": {},
   "outputs": [],
   "source": [
    "import numpy as np\n",
    "from PIL import Image\n",
    "import matplotlib.pyplot as plt\n",
    "import random\n",
    "import torch\n",
    "import torch.optim as optim\n",
    "import torch.nn as nn\n",
    "import torch.nn.functional as F\n",
    "from torch.autograd import grad\n",
    "import torchvision\n",
    "import torchvision.utils as vutils\n",
    "from torchvision import models, datasets, transforms\n",
    "from collections import defaultdict, OrderedDict\n",
    "from copy import deepcopy\n",
    "import re\n",
    "import copy\n",
    "import time\n",
    "import math\n",
    "import logging\n",
    "\n",
    "from torch.utils.data import Dataset, DataLoader\n",
    "from torchvision import models, utils, datasets, transforms\n",
    "from torchvision.datasets.utils import verify_str_arg\n",
    "from torchvision.datasets.utils import download_and_extract_archive\n",
    "import numpy as np\n",
    "import sys\n",
    "import os\n",
    "from PIL import Image"
   ]
  },
  {
   "cell_type": "code",
   "execution_count": null,
   "id": "d83b33c5-e7d1-4cc9-94a3-66157f017059",
   "metadata": {},
   "outputs": [],
   "source": [
    "import global_var"
   ]
  },
  {
   "cell_type": "code",
   "execution_count": null,
   "id": "6f3d5d4d-bf3f-4b99-98e9-a9bcdaedf0ae",
   "metadata": {},
   "outputs": [],
   "source": [
    "device = \"cuda\" if torch.cuda.is_available() else \"cpu\"\n",
    "torch.set_printoptions(8,sci_mode=True)\n",
    "\n",
    "global_var.set_device(device)"
   ]
  },
  {
   "cell_type": "code",
   "execution_count": null,
   "id": "4156353c-c048-4dc9-892b-13c26be9d1e0",
   "metadata": {},
   "outputs": [],
   "source": [
    "torch.cuda.is_available()"
   ]
  },
  {
   "cell_type": "code",
   "execution_count": null,
   "id": "7284dc47-6c12-4113-bf95-da319064d875",
   "metadata": {},
   "outputs": [],
   "source": [
    "from dataset import *\n",
    "from common_DL import *\n",
    "from gradient_lib import *\n",
    "from federated_learning import *\n",
    "from model_structure import *\n",
    "from utils import *\n",
    "from inversion_attacks import *\n",
    "from model_structure import *\n",
    "\n",
    "from CGI_framework_lib3 import *"
   ]
  },
  {
   "cell_type": "code",
   "execution_count": null,
   "id": "59a638b7-737f-498b-b6ea-799991c8bbb0",
   "metadata": {},
   "outputs": [],
   "source": [
    "!pip install lpips"
   ]
  },
  {
   "cell_type": "markdown",
   "id": "1e91bec8-1056-42d6-b3c8-471ee6858542",
   "metadata": {},
   "source": [
    "## Dataset"
   ]
  },
  {
   "cell_type": "code",
   "execution_count": null,
   "id": "10557770-8506-4d58-9328-f556997afdc6",
   "metadata": {},
   "outputs": [],
   "source": [
    "Cifar100_train_dataset = get_dataset(\"Cifar100\",train=True,transform=None,download=True)\n",
    "Cifar100_test_dataset= get_dataset(\"Cifar100\",train=False,transform=None,download=True)\n",
    "\n",
    "Cifar100_train_loader = torch.utils.data.DataLoader(Cifar100_train_dataset,batch_size=128,shuffle=True)\n",
    "Cifar100_test_loader = torch.utils.data.DataLoader(Cifar100_test_dataset,batch_size=128,shuffle=False)"
   ]
  },
  {
   "cell_type": "code",
   "execution_count": null,
   "id": "cf7d496c-2fa2-450b-bc12-f1702a644a11",
   "metadata": {},
   "outputs": [],
   "source": [
    "TinyImageNet_train_dataset = get_dataset(\"TinyImageNet\",train=True,transform=None,download=True)\n",
    "TinyImageNet_test_dataset= get_dataset(\"TinyImageNet\",train=False,transform=None,download=True)\n",
    "\n",
    "TinyImageNet_train_loader = torch.utils.data.DataLoader(TinyImageNet_train_dataset,batch_size=32,shuffle=True)\n",
    "TinyImageNet_test_loader = torch.utils.data.DataLoader(TinyImageNet_test_dataset,batch_size=32,shuffle=False)"
   ]
  },
  {
   "cell_type": "code",
   "execution_count": null,
   "id": "a032cbbe-a055-4228-b5d1-ec11a914ab10",
   "metadata": {},
   "outputs": [],
   "source": [
    "CalTech256_train_dataset = get_dataset(\"CalTech256\",train=True,transform=None,download=True)\n",
    "CalTech256_test_dataset= get_dataset(\"CalTech256\",train=False,transform=None,download=True)\n",
    "\n",
    "CalTech256_train_loader = torch.utils.data.DataLoader(CalTech256_train_dataset,batch_size=16,shuffle=True)\n",
    "CalTech256_test_loader = torch.utils.data.DataLoader(CalTech256_test_dataset,batch_size=16,shuffle=False)"
   ]
  },
  {
   "cell_type": "code",
   "execution_count": null,
   "id": "a052063b-c91d-4548-9532-739f94636d08",
   "metadata": {},
   "outputs": [],
   "source": [
    "test_dataset_dict={\n",
    "    \"TinyImageNet\":TinyImageNet_test_dataset,\n",
    "    \"Cifar100\":Cifar100_test_dataset,\n",
    "    \"CalTech256\":CalTech256_test_dataset\n",
    "}\n",
    "\n",
    "train_dataset_dict={\n",
    "    \"TinyImageNet\":TinyImageNet_train_dataset,\n",
    "    \"Cifar100\":Cifar100_train_dataset,\n",
    "    \"CalTech256\":CalTech256_train_dataset\n",
    "}"
   ]
  },
  {
   "cell_type": "code",
   "execution_count": null,
   "id": "82932d2f-9758-4696-9add-224c30cf1b80",
   "metadata": {},
   "outputs": [],
   "source": [
    "test_loader_dict={\n",
    "    \"TinyImageNet\":TinyImageNet_test_loader,\n",
    "    \"Cifar100\":Cifar100_test_loader,\n",
    "    \"CalTech256\":CalTech256_test_loader\n",
    "}\n",
    "\n",
    "train_loader_dict={\n",
    "    \"TinyImageNet\":TinyImageNet_train_loader,\n",
    "    \"Cifar100\":Cifar100_train_loader,\n",
    "    \"CalTech256\":CalTech256_train_loader\n",
    "}"
   ]
  },
  {
   "cell_type": "code",
   "execution_count": null,
   "id": "3d2f973c-2b21-46ce-8958-655c02c704a7",
   "metadata": {},
   "outputs": [],
   "source": [
    "data_info = {\n",
    "    \"test_dataset_dict\":test_dataset_dict,\n",
    "    \"train_dataset_dict\":train_dataset_dict,\n",
    "    \"test_loader_dict\":test_loader_dict,\n",
    "    \"train_loader_dict\":train_loader_dict\n",
    "}"
   ]
  },
  {
   "cell_type": "markdown",
   "id": "80e4c736-4dfb-4f5e-bbdf-ae32989641b0",
   "metadata": {},
   "source": [
    "## Exp"
   ]
  },
  {
   "cell_type": "code",
   "execution_count": null,
   "id": "9df48a32-8139-4791-9133-42776827cec3",
   "metadata": {
    "tags": []
   },
   "outputs": [],
   "source": [
    "settings = [({\n",
    "        \"batch_size\":32,\n",
    "        \"client_num\":50,\n",
    "        \"malicious_num\":10\n",
    "    },0,\"Cifar100\",\"FK\",\"MKrum\",\n",
    "        {\"optimization_round\":1000,\n",
    "        \"threshold\":[8e+3,1e2,3e+4],\n",
    "        \"init_value\":[1,0],\n",
    "        \"lr\":1e-7,\n",
    "        \"opt_parameter\":\"gamma\"},\n",
    "    False)]\n",
    "fl_setting, target_class,dataset_name,knowledge_level,agr_name,agr_attack_setting_dict,sp = settings[0]"
   ]
  },
  {
   "cell_type": "code",
   "execution_count": null,
   "id": "ca7292a9-662d-4cce-8f28-9b9424d15c1f",
   "metadata": {},
   "outputs": [],
   "source": [
    "gradient_tuple = gradient_simulate(dataset_name,data_info,target_class,knowledge_level,agr_name,fl_setting,agr_attack_setting_dict,sp)"
   ]
  },
  {
   "cell_type": "code",
   "execution_count": null,
   "id": "3384cc68-feae-43b8-a540-1bf9848bf5c0",
   "metadata": {},
   "outputs": [],
   "source": [
    "inversion(dataset_name,target_class,knowledge_level,agr_name,gradient_tuple,inversion_args=[1e-1,1e-2,10])"
   ]
  },
  {
   "cell_type": "code",
   "execution_count": null,
   "id": "6ccbb49e-54c5-4187-91a1-5783ce01cade",
   "metadata": {},
   "outputs": [],
   "source": []
  }
 ],
 "metadata": {
  "kernelspec": {
   "display_name": "Python 3 (ipykernel)",
   "language": "python",
   "name": "python3"
  },
  "language_info": {
   "codemirror_mode": {
    "name": "ipython",
    "version": 3
   },
   "file_extension": ".py",
   "mimetype": "text/x-python",
   "name": "python",
   "nbconvert_exporter": "python",
   "pygments_lexer": "ipython3",
   "version": "3.8.15"
  }
 },
 "nbformat": 4,
 "nbformat_minor": 5
}
